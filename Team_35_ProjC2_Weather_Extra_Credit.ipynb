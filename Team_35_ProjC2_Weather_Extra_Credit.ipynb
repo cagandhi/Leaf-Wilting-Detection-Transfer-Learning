{
  "nbformat": 4,
  "nbformat_minor": 0,
  "metadata": {
    "colab": {
      "name": "Weather_Extra_Credit.ipynb",
      "provenance": [],
      "collapsed_sections": [],
      "toc_visible": true
    },
    "kernelspec": {
      "name": "python3",
      "display_name": "Python 3"
    },
    "accelerator": "GPU"
  },
  "cells": [
    {
      "cell_type": "markdown",
      "metadata": {
        "id": "J8_ZVqxjIotD",
        "colab_type": "text"
      },
      "source": [
        "# EXTRA CREDIT - Weather Data"
      ]
    },
    {
      "cell_type": "markdown",
      "metadata": {
        "id": "p2ZykUzpDK_q",
        "colab_type": "text"
      },
      "source": [
        "### import all libraries required"
      ]
    },
    {
      "cell_type": "code",
      "metadata": {
        "id": "SBKFJdRXVfEH",
        "colab_type": "code",
        "outputId": "87b85b6c-97a6-4180-fbda-0c53d6e80bb0",
        "colab": {
          "base_uri": "https://localhost:8080/",
          "height": 34
        }
      },
      "source": [
        "import numpy as np\n",
        "import pandas as pd\n",
        "import tensorflow as tf\n",
        "from sklearn.linear_model import LogisticRegression\n",
        "from sklearn.preprocessing import StandardScaler\n",
        "from sklearn.svm import LinearSVC, SVC\n",
        "from sklearn.feature_selection import SelectFromModel\n",
        "from sklearn.ensemble import RandomForestClassifier\n",
        "from sklearn.naive_bayes import GaussianNB\n",
        "from sklearn.decomposition import PCA\n",
        "from sklearn.svm import LinearSVC\n",
        "from keras.utils import to_categorical\n",
        "from tensorflow.keras.models import load_model,Sequential\n",
        "import matplotlib.pyplot as plt\n",
        "\n",
        "from tensorflow.keras.layers import Dense, Dropout, Flatten\n",
        "from tensorflow.keras.layers import Conv1D, MaxPooling1D,BatchNormalization,GlobalMaxPooling1D\n",
        "from tensorflow.keras.callbacks import ModelCheckpoint, EarlyStopping\n",
        "\n",
        "from keras.optimizers import RMSprop, SGD, adam\n",
        "from sklearn.metrics import confusion_matrix, classification_report, accuracy_score"
      ],
      "execution_count": 1,
      "outputs": [
        {
          "output_type": "stream",
          "text": [
            "Using TensorFlow backend.\n"
          ],
          "name": "stderr"
        }
      ]
    },
    {
      "cell_type": "markdown",
      "metadata": {
        "id": "Y4MMjyWgR0gN",
        "colab_type": "text"
      },
      "source": [
        "#### Load the data "
      ]
    },
    {
      "cell_type": "code",
      "metadata": {
        "id": "j-DWKcVFSH3G",
        "colab_type": "code",
        "outputId": "9d94692a-95a9-498f-c0aa-f3538d1fdbea",
        "colab": {
          "base_uri": "https://localhost:8080/",
          "height": 34
        }
      },
      "source": [
        "!cp /content/drive/My\\ Drive/ECE542_sp20_CompetitionData/TrainData-C2/ExtraCredit_Train.csv /content/\n",
        "train_df = pd.read_csv('ExtraCredit_Train.csv')\n",
        "\n",
        "!cp /content/drive/My\\ Drive/ECE542_sp20_CompetitionData/TrainData-C2/ExtraCredit_Test.csv /content/\n",
        "test_df = pd.read_csv('ExtraCredit_Test.csv')\n",
        "\n",
        "X_train = train_df.iloc[:,2:]\n",
        "X_test = test_df.iloc[:,2:]\n",
        "Y_train = train_df.iloc[:,1]\n",
        "Y_test = test_df.iloc[:,1]\n",
        "\n",
        "print(X_train.shape,X_test.shape,Y_train.shape,Y_test.shape)"
      ],
      "execution_count": 2,
      "outputs": [
        {
          "output_type": "stream",
          "text": [
            "(620, 12) (100, 12) (620,) (100,)\n"
          ],
          "name": "stdout"
        }
      ]
    },
    {
      "cell_type": "markdown",
      "metadata": {
        "id": "pYD-wRn0pNp2",
        "colab_type": "text"
      },
      "source": [
        "## 1. Predictions using tabular data only"
      ]
    },
    {
      "cell_type": "markdown",
      "metadata": {
        "id": "vzrNrqQaH8Si",
        "colab_type": "text"
      },
      "source": [
        "#### Data Normalization"
      ]
    },
    {
      "cell_type": "code",
      "metadata": {
        "id": "Z1YphWLIH7s-",
        "colab_type": "code",
        "outputId": "0b7ce623-27d4-4c13-8865-19b1cf384be9",
        "colab": {
          "base_uri": "https://localhost:8080/",
          "height": 51
        }
      },
      "source": [
        "std_scaler = StandardScaler()\n",
        "x_scaled = std_scaler.fit_transform(X_train.values) \n",
        "X_train = pd.DataFrame(x_scaled, index = X_train.index)\n",
        "\n",
        "x_scaled = std_scaler.transform(X_test.values) \n",
        "X_test = pd.DataFrame(x_scaled, index = X_test.index)\n",
        "\n",
        "print(X_train.shape,X_test.shape)\n",
        "print(np.bincount(Y_train))"
      ],
      "execution_count": 3,
      "outputs": [
        {
          "output_type": "stream",
          "text": [
            "(620, 12) (100, 12)\n",
            "[338 149  30  36  67]\n"
          ],
          "name": "stdout"
        }
      ]
    },
    {
      "cell_type": "markdown",
      "metadata": {
        "id": "8k7Ja2nJBoP8",
        "colab_type": "text"
      },
      "source": [
        "#### PCA Feature Selection "
      ]
    },
    {
      "cell_type": "code",
      "metadata": {
        "id": "PXB1s_yzBt3z",
        "colab_type": "code",
        "outputId": "988cad45-16e1-4d81-bd6b-a5a605bc8af0",
        "colab": {
          "base_uri": "https://localhost:8080/",
          "height": 102
        }
      },
      "source": [
        "# Implementation of PCA\n",
        "pca_dict = {}\n",
        "eigen_dict = {}\n",
        "for n_comp in range(10):\n",
        "  pca = PCA(n_components=n_comp)\n",
        "  temp_train_pca = pca.fit_transform(X_train)\n",
        "  temp_test_pca = pca.transform(X_test)\n",
        "  eigen_values = pca.explained_variance_[:n_comp]\n",
        "  \n",
        "  if n_comp > 0:\n",
        "    #print (n_comp,pca.explained_variance_ratio_.sum(),eigen_values)[-1])\n",
        "    pca_dict[n_comp] = pca.explained_variance_ratio_.sum()\n",
        "    eigen_dict[n_comp] = eigen_values[-1]\n",
        "\n",
        "# Selecting components with Eigen value greater than 1 from the list\n",
        "#pca_comp_eigen = max([key for key,val in eigen_dict.items() if val >= 1])\n",
        "pca_comp_eigen = max([key for key,val in pca_dict.items() if val < 0.95])\n",
        "\n",
        "print('Components from Feature selection using PCA (Having Eigen values >=1)- ' + str(pca_comp_eigen) + '\\n')\n",
        "\n",
        "# Performing PCA for the train data with the fixed components\n",
        "pca = PCA(n_components=pca_comp_eigen)\n",
        "X_train_pca = pca.fit_transform(X_train)\n",
        "X_test_pca = pca.transform(X_test)\n",
        "print('Feature Selection using PCA complete for the train data.\\n\\n')"
      ],
      "execution_count": 4,
      "outputs": [
        {
          "output_type": "stream",
          "text": [
            "Components from Feature selection using PCA (Having Eigen values >=1)- 5\n",
            "\n",
            "Feature Selection using PCA complete for the train data.\n",
            "\n",
            "\n"
          ],
          "name": "stdout"
        }
      ]
    },
    {
      "cell_type": "markdown",
      "metadata": {
        "id": "GshFGu3VVdsS",
        "colab_type": "text"
      },
      "source": [
        "### Support Vector Machine - Grid Search on parameters"
      ]
    },
    {
      "cell_type": "code",
      "metadata": {
        "id": "TdMWAwVhRTJ3",
        "colab_type": "code",
        "outputId": "0df483bc-5521-4430-9a6b-099f2f35b2e3",
        "colab": {
          "base_uri": "https://localhost:8080/",
          "height": 343
        }
      },
      "source": [
        "# Hyperaeter tuning on regularization parameter and kernal for SVM\n",
        "c_list = [0.001, 0.01, 0.1, 1, 10, 100, 1000]\n",
        "kernals = ['linear','rbf','poly','sigmoid']\n",
        "\n",
        "accuracy = {'linear':[], 'rbf':[], 'poly':[], 'sigmoid':[]}\n",
        "\n",
        "for kernal in kernals:\n",
        "  for cval in c_list:\n",
        "    \n",
        "    clf = SVC(max_iter=100000, kernel=kernal, C=cval, class_weight='balanced')\n",
        "\n",
        "    clf.fit(X_train_pca, Y_train)\n",
        "    accuracy[kernal].append(clf.score(X_test_pca, Y_test))\n",
        "    yPred = clf.predict(X_test_pca)\n",
        "\n",
        "    del clf\n",
        "    del yPred\n",
        "\n",
        "print('\\n\\nSVM Accuracies: ')\n",
        "print('Linear kernal has maximum accuracy - '+ str(round(max(accuracy['linear']),4)) + ' for critical factor ' + str(c_list[accuracy['linear'].index(max(accuracy['linear']))]) )\n",
        "print('\\nRadial Basis Function Kernel SVM accuracy - '+ str(round(max(accuracy['rbf']),4)) + ' for critical factor ' + str(c_list[accuracy['rbf'].index(max(accuracy['rbf']))]) )\n",
        "print('\\nPolynomial Kernel SVM has maximum accuracy - ' + str(round(max(accuracy['poly']),4)) + ' for critical factor ' + str(c_list[accuracy['poly'].index(max(accuracy['poly']))]))\n",
        "print('\\nSigmoid Kernel SVM has maximum accuracy - ' + str(round(max(accuracy['sigmoid']),4)) + ' for critical factor ' + str(c_list[accuracy['sigmoid'].index(max(accuracy['sigmoid']))]) +'\\n\\n')\n"
      ],
      "execution_count": 5,
      "outputs": [
        {
          "output_type": "stream",
          "text": [
            "/usr/local/lib/python3.6/dist-packages/sklearn/svm/_base.py:231: ConvergenceWarning: Solver terminated early (max_iter=100000).  Consider pre-processing your data with StandardScaler or MinMaxScaler.\n",
            "  % self.max_iter, ConvergenceWarning)\n",
            "/usr/local/lib/python3.6/dist-packages/sklearn/svm/_base.py:231: ConvergenceWarning: Solver terminated early (max_iter=100000).  Consider pre-processing your data with StandardScaler or MinMaxScaler.\n",
            "  % self.max_iter, ConvergenceWarning)\n",
            "/usr/local/lib/python3.6/dist-packages/sklearn/svm/_base.py:231: ConvergenceWarning: Solver terminated early (max_iter=100000).  Consider pre-processing your data with StandardScaler or MinMaxScaler.\n",
            "  % self.max_iter, ConvergenceWarning)\n"
          ],
          "name": "stderr"
        },
        {
          "output_type": "stream",
          "text": [
            "\n",
            "\n",
            "SVM Accuracies: \n",
            "Linear kernal has maximum accuracy - 0.49 for critical factor 10\n",
            "\n",
            "Radial Basis Function Kernel SVM accuracy - 0.72 for critical factor 1\n",
            "\n",
            "Polynomial Kernel SVM has maximum accuracy - 0.66 for critical factor 1000\n",
            "\n",
            "Sigmoid Kernel SVM has maximum accuracy - 0.39 for critical factor 0.1\n",
            "\n",
            "\n"
          ],
          "name": "stdout"
        }
      ]
    },
    {
      "cell_type": "markdown",
      "metadata": {
        "id": "FCh-P_HPWvmb",
        "colab_type": "text"
      },
      "source": [
        "### Best SVM model "
      ]
    },
    {
      "cell_type": "code",
      "metadata": {
        "id": "LLRyXUmHjGgq",
        "colab_type": "code",
        "outputId": "f946f131-2618-4980-ebdd-45bdb2106942",
        "colab": {
          "base_uri": "https://localhost:8080/",
          "height": 391
        }
      },
      "source": [
        "clf = SVC(max_iter=100000, kernel='rbf', C=1, class_weight='balanced')\n",
        "\n",
        "clf.fit(X_train_pca, Y_train)\n",
        "\n",
        "yPred = clf.predict(X_test_pca)\n",
        "yPred_decision = clf.decision_function(X_test_pca)\n",
        "\n",
        "print('Accuracy for class weighted SVM (RBF kernel, C=1): ', clf.score(X_test_pca, Y_test))\n",
        "weather_matrix = confusion_matrix(Y_test, yPred)\n",
        "print('\\nThe confusion matrix is:')\n",
        "print(weather_matrix)\n",
        "print('\\n The classification report is: ')\n",
        "print(classification_report(Y_test, yPred))"
      ],
      "execution_count": 6,
      "outputs": [
        {
          "output_type": "stream",
          "text": [
            "Accuracy for class weighted SVM (RBF kernel, C=1):  0.72\n",
            "\n",
            "The confusion matrix is:\n",
            "[[13  5  0  2  0]\n",
            " [ 0 15  0  0  5]\n",
            " [ 0  1 15  4  0]\n",
            " [ 2  1  2 15  0]\n",
            " [ 1  0  2  3 14]]\n",
            "\n",
            " The classification report is: \n",
            "              precision    recall  f1-score   support\n",
            "\n",
            "           0       0.81      0.65      0.72        20\n",
            "           1       0.68      0.75      0.71        20\n",
            "           2       0.79      0.75      0.77        20\n",
            "           3       0.62      0.75      0.68        20\n",
            "           4       0.74      0.70      0.72        20\n",
            "\n",
            "    accuracy                           0.72       100\n",
            "   macro avg       0.73      0.72      0.72       100\n",
            "weighted avg       0.73      0.72      0.72       100\n",
            "\n"
          ],
          "name": "stdout"
        }
      ]
    },
    {
      "cell_type": "markdown",
      "metadata": {
        "id": "2fp_Kkkss0Us",
        "colab_type": "text"
      },
      "source": [
        "## 2. Predictions using image data only"
      ]
    },
    {
      "cell_type": "code",
      "metadata": {
        "id": "mA0Cu-dquzRv",
        "colab_type": "code",
        "colab": {}
      },
      "source": [
        "import cv2\n",
        "\n",
        "X_train = []\n",
        "X_test = []\n",
        "\n",
        "def func_train(filename):\n",
        "    X_train.append(cv2.imread('/content/drive/My Drive/ECE542_sp20_CompetitionData/TrainData-C2/'+filename))\n",
        "\n",
        "def func_test(filename):\n",
        "    X_test.append(cv2.imread('/content/drive/My Drive/ECE542_sp20_CompetitionData/TrainData-C2/'+filename))\n",
        "\n",
        "train_df.file_name.apply(func_train)\n",
        "test_df.file_name.apply(func_test)\n",
        "\n",
        "X_train = np.array(X_train)\n",
        "X_test = np.array(X_test)"
      ],
      "execution_count": 0,
      "outputs": []
    },
    {
      "cell_type": "code",
      "metadata": {
        "id": "nwZsftCSzvwe",
        "colab_type": "code",
        "colab": {}
      },
      "source": [
        "np.save('X_train.npy', X_train)\n",
        "np.save('X_test.npy', X_test)"
      ],
      "execution_count": 0,
      "outputs": []
    },
    {
      "cell_type": "markdown",
      "metadata": {
        "id": "1YBV_NBB8bi4",
        "colab_type": "text"
      },
      "source": [
        "### load data from numpy arrays saved in drive"
      ]
    },
    {
      "cell_type": "code",
      "metadata": {
        "id": "KnvVOiXBwqL3",
        "colab_type": "code",
        "outputId": "b3207300-cc93-47f5-a28f-a0e16071c183",
        "colab": {
          "base_uri": "https://localhost:8080/",
          "height": 34
        }
      },
      "source": [
        "X_train = np.load('/content/drive/My Drive/Models_Resnet/ExtraCredit/images_only/X_train.npy')\n",
        "X_test = np.load('/content/drive/My Drive/Models_Resnet/ExtraCredit/images_only/X_test.npy')\n",
        "\n",
        "print(X_train.shape, X_test.shape)"
      ],
      "execution_count": 7,
      "outputs": [
        {
          "output_type": "stream",
          "text": [
            "(620, 480, 640, 3) (100, 480, 640, 3)\n"
          ],
          "name": "stdout"
        }
      ]
    },
    {
      "cell_type": "code",
      "metadata": {
        "id": "a_c6m2oL1Zzy",
        "colab_type": "code",
        "colab": {}
      },
      "source": [
        "from keras.utils import to_categorical\n",
        "\n",
        "num_classes = 5\n",
        "y_train_single = train_df.annotation.to_numpy()\n",
        "y_test_single = test_df.annotation.to_numpy()\n",
        "\n",
        "y_train = to_categorical(y_train_single, num_classes)\n",
        "y_test = to_categorical(y_test_single, num_classes)"
      ],
      "execution_count": 0,
      "outputs": []
    },
    {
      "cell_type": "markdown",
      "metadata": {
        "colab_type": "text",
        "id": "Ldw08HoRSzU0"
      },
      "source": [
        "### delete model h5 files if experiment useless"
      ]
    },
    {
      "cell_type": "code",
      "metadata": {
        "colab_type": "code",
        "id": "9P5U1LizSzU2",
        "outputId": "fa0f9509-3c5d-4bbd-89f5-51178f81393b",
        "colab": {
          "base_uri": "https://localhost:8080/",
          "height": 34
        }
      },
      "source": [
        "!rm *.h5"
      ],
      "execution_count": 9,
      "outputs": [
        {
          "output_type": "stream",
          "text": [
            "rm: cannot remove '*.h5': No such file or directory\n"
          ],
          "name": "stdout"
        }
      ]
    },
    {
      "cell_type": "code",
      "metadata": {
        "id": "rCIfUJbqcG1s",
        "colab_type": "code",
        "colab": {}
      },
      "source": [
        "import pandas as pd\n",
        "import numpy as np\n",
        "import os\n",
        "import keras\n",
        "import matplotlib.pyplot as plt\n",
        "from tensorflow.keras.layers import Dense,GlobalAveragePooling2D\n",
        "from tensorflow.keras.applications import InceptionResNetV2, VGG16, ResNet50\n",
        "from tensorflow.keras.preprocessing import image\n",
        "from tensorflow.keras.applications.resnet import preprocess_input\n",
        "from tensorflow.keras.preprocessing.image import ImageDataGenerator\n",
        "from tensorflow.keras.models import Model\n",
        "from tensorflow.keras.optimizers import Adam, SGD"
      ],
      "execution_count": 0,
      "outputs": []
    },
    {
      "cell_type": "markdown",
      "metadata": {
        "id": "iKWAY2qDC9vD",
        "colab_type": "text"
      },
      "source": [
        "### determine class weights for imbalanced training"
      ]
    },
    {
      "cell_type": "code",
      "metadata": {
        "id": "sa7H5LFVAs6-",
        "colab_type": "code",
        "outputId": "4b2253cb-deaa-44df-9587-ccd9c92f15ba",
        "colab": {
          "base_uri": "https://localhost:8080/",
          "height": 34
        }
      },
      "source": [
        "import fnmatch\n",
        "import numpy as np\n",
        "from sklearn.utils import class_weight\n",
        "\n",
        "y=y_train_single\n",
        "class_weights = class_weight.compute_class_weight('balanced', np.unique(y), y)\n",
        "class_weights_dict = dict(zip(range(5), class_weights))\n",
        "print(class_weights_dict)"
      ],
      "execution_count": 11,
      "outputs": [
        {
          "output_type": "stream",
          "text": [
            "{0: 0.3668639053254438, 1: 0.8322147651006712, 2: 4.133333333333334, 3: 3.4444444444444446, 4: 1.8507462686567164}\n"
          ],
          "name": "stdout"
        }
      ]
    },
    {
      "cell_type": "markdown",
      "metadata": {
        "id": "kuKxC4RkWkEr",
        "colab_type": "text"
      },
      "source": [
        "### define model"
      ]
    },
    {
      "cell_type": "code",
      "metadata": {
        "id": "OX6LkL42c05f",
        "colab_type": "code",
        "colab": {}
      },
      "source": [
        "base_model=ResNet50(weights='imagenet',include_top=False)\n",
        "for layer in base_model.layers:\n",
        "    layer.trainable=False\n",
        "\n",
        "x=base_model.output\n",
        "x=GlobalAveragePooling2D()(x)\n",
        "x=Dense(128,activation='relu')(x)\n",
        "x=Dense(128,activation='relu')(x)\n",
        "preds=Dense(5,activation='softmax')(x) # final layer with softmax activation\n",
        "\n",
        "model=Model(inputs=base_model.input, outputs=preds)"
      ],
      "execution_count": 0,
      "outputs": []
    },
    {
      "cell_type": "code",
      "metadata": {
        "id": "SCk6Ws8Nz86M",
        "colab_type": "code",
        "colab": {}
      },
      "source": [
        "#train\n",
        "train_datagen = ImageDataGenerator(preprocessing_function=preprocess_input,\n",
        "                                    rotation_range=15,\n",
        "                                    shear_range=0.2,\n",
        "                                    width_shift_range=0.2,\n",
        "                                    height_shift_range=0.2,\n",
        "                                    zoom_range=0.2,\n",
        "                                    brightness_range=(0.1, 0.9),\n",
        "                                    channel_shift_range=150.0,\n",
        "                                    horizontal_flip=True)\n",
        "\n",
        "train_generator = train_datagen.flow(X_train, y_train, batch_size=16, shuffle=False)\n",
        "\n",
        "#test\n",
        "test_datagen = ImageDataGenerator(preprocessing_function=preprocess_input)\n",
        "\n",
        "test_generator = test_datagen.flow(X_test, y_test, batch_size=16, shuffle=False)"
      ],
      "execution_count": 0,
      "outputs": []
    },
    {
      "cell_type": "markdown",
      "metadata": {
        "id": "cgqrLb-fW0Ea",
        "colab_type": "text"
      },
      "source": [
        "### train model and save the best validation accuracy checkpoint"
      ]
    },
    {
      "cell_type": "code",
      "metadata": {
        "id": "f1HcMqyBetX9",
        "colab_type": "code",
        "outputId": "76409c0e-506f-4fc9-9b69-ca6089f80469",
        "colab": {
          "base_uri": "https://localhost:8080/",
          "height": 768
        }
      },
      "source": [
        "from tensorflow.keras.callbacks import ModelCheckpoint, EarlyStopping\n",
        "\n",
        "model.compile(optimizer='Adam',loss='categorical_crossentropy',metrics=['accuracy'])\n",
        "\n",
        "step_size_train=train_generator.n//train_generator.batch_size\n",
        "step_size_val=test_generator.n//test_generator.batch_size\n",
        "\n",
        "earlystop = EarlyStopping(monitor='val_accuracy', patience=5)\n",
        "checkpoint = ModelCheckpoint('model-epoch-{epoch:03d}-valacc-{val_accuracy:03f}.h5', verbose=1, monitor='val_accuracy',save_best_only=True, mode='auto')  \n",
        "\n",
        "no_epochs = 10\n",
        "hist = model.fit_generator(train_generator,\n",
        "                   steps_per_epoch=step_size_train,\n",
        "                   epochs=no_epochs,\n",
        "                   validation_data=test_generator,\n",
        "                   validation_steps=step_size_val,\n",
        "                   callbacks=[earlystop, checkpoint],\n",
        "                   class_weight=class_weights_dict)"
      ],
      "execution_count": 0,
      "outputs": [
        {
          "output_type": "stream",
          "text": [
            "WARNING:tensorflow:From <ipython-input-11-6e70fce91ba4>:18: Model.fit_generator (from tensorflow.python.keras.engine.training) is deprecated and will be removed in a future version.\n",
            "Instructions for updating:\n",
            "Please use Model.fit, which supports generators.\n",
            "Epoch 1/10\n",
            "38/38 [==============================] - ETA: 0s - loss: 1.6926 - accuracy: 0.4688\n",
            "Epoch 00001: val_accuracy improved from -inf to 0.19792, saving model to model-epoch-001-valacc-0.197917.h5\n",
            "38/38 [==============================] - 54s 1s/step - loss: 1.6926 - accuracy: 0.4688 - val_loss: 5.0696 - val_accuracy: 0.1979\n",
            "Epoch 2/10\n",
            "38/38 [==============================] - ETA: 0s - loss: 2.0425 - accuracy: 0.4503\n",
            "Epoch 00002: val_accuracy improved from 0.19792 to 0.55208, saving model to model-epoch-002-valacc-0.552083.h5\n",
            "38/38 [==============================] - 54s 1s/step - loss: 2.0425 - accuracy: 0.4503 - val_loss: 1.5816 - val_accuracy: 0.5521\n",
            "Epoch 3/10\n",
            "38/38 [==============================] - ETA: 0s - loss: 1.2693 - accuracy: 0.5215\n",
            "Epoch 00003: val_accuracy did not improve from 0.55208\n",
            "38/38 [==============================] - 53s 1s/step - loss: 1.2693 - accuracy: 0.5215 - val_loss: 1.3116 - val_accuracy: 0.4896\n",
            "Epoch 4/10\n",
            "38/38 [==============================] - ETA: 0s - loss: 1.0706 - accuracy: 0.4884\n",
            "Epoch 00004: val_accuracy improved from 0.55208 to 0.59375, saving model to model-epoch-004-valacc-0.593750.h5\n",
            "38/38 [==============================] - 54s 1s/step - loss: 1.0706 - accuracy: 0.4884 - val_loss: 1.0904 - val_accuracy: 0.5938\n",
            "Epoch 5/10\n",
            "38/38 [==============================] - ETA: 0s - loss: 0.9798 - accuracy: 0.5050\n",
            "Epoch 00005: val_accuracy improved from 0.59375 to 0.60417, saving model to model-epoch-005-valacc-0.604167.h5\n",
            "38/38 [==============================] - 54s 1s/step - loss: 0.9798 - accuracy: 0.5050 - val_loss: 0.9942 - val_accuracy: 0.6042\n",
            "Epoch 6/10\n",
            "38/38 [==============================] - ETA: 0s - loss: 0.9421 - accuracy: 0.5579\n",
            "Epoch 00006: val_accuracy did not improve from 0.60417\n",
            "38/38 [==============================] - 53s 1s/step - loss: 0.9421 - accuracy: 0.5579 - val_loss: 1.1692 - val_accuracy: 0.6042\n",
            "Epoch 7/10\n",
            "38/38 [==============================] - ETA: 0s - loss: 0.9539 - accuracy: 0.4967\n",
            "Epoch 00007: val_accuracy improved from 0.60417 to 0.67708, saving model to model-epoch-007-valacc-0.677083.h5\n",
            "38/38 [==============================] - 53s 1s/step - loss: 0.9539 - accuracy: 0.4967 - val_loss: 0.8124 - val_accuracy: 0.6771\n",
            "Epoch 8/10\n",
            "38/38 [==============================] - ETA: 0s - loss: 0.9021 - accuracy: 0.5480\n",
            "Epoch 00008: val_accuracy improved from 0.67708 to 0.68750, saving model to model-epoch-008-valacc-0.687500.h5\n",
            "38/38 [==============================] - 54s 1s/step - loss: 0.9021 - accuracy: 0.5480 - val_loss: 0.9246 - val_accuracy: 0.6875\n",
            "Epoch 9/10\n",
            "38/38 [==============================] - ETA: 0s - loss: 0.8696 - accuracy: 0.5629\n",
            "Epoch 00009: val_accuracy did not improve from 0.68750\n",
            "38/38 [==============================] - 53s 1s/step - loss: 0.8696 - accuracy: 0.5629 - val_loss: 0.7195 - val_accuracy: 0.6771\n",
            "Epoch 10/10\n",
            "38/38 [==============================] - ETA: 0s - loss: 0.8398 - accuracy: 0.5695\n",
            "Epoch 00010: val_accuracy did not improve from 0.68750\n",
            "38/38 [==============================] - 53s 1s/step - loss: 0.8398 - accuracy: 0.5695 - val_loss: 0.8013 - val_accuracy: 0.6771\n"
          ],
          "name": "stdout"
        }
      ]
    },
    {
      "cell_type": "code",
      "metadata": {
        "id": "iJNvGhT1_Mgm",
        "colab_type": "code",
        "outputId": "73840a27-fbc3-4376-a6c0-c4930ac42dd1",
        "colab": {
          "base_uri": "https://localhost:8080/",
          "height": 543
        }
      },
      "source": [
        "# visualizing losses and accuracy\n",
        "train_loss = hist.history['loss']\n",
        "val_loss = hist.history['val_loss']\n",
        "train_accu = hist.history['accuracy']\n",
        "val_accu = hist.history['val_accuracy']\n",
        "xc = range(len(train_loss))\n",
        "\n",
        "plt.figure()\n",
        "plt.plot(xc, train_loss, label='Training loss')\n",
        "plt.plot(xc, val_loss, label='Validation loss')\n",
        "plt.legend(loc=\"lower left\")\n",
        "plt.xlabel('Epochs')\n",
        "plt.ylabel('Loss')\n",
        "plt.show()\n",
        "\n",
        "plt.figure()\n",
        "plt.plot(xc, train_accu, label='Training accuracy')\n",
        "plt.plot(xc, val_accu, label='Validation accuracy')\n",
        "plt.legend(loc=\"lower left\")\n",
        "plt.xlabel('Epochs')\n",
        "plt.ylabel('Accuracy')\n",
        "plt.show()"
      ],
      "execution_count": 0,
      "outputs": [
        {
          "output_type": "display_data",
          "data": {
            "image/png": "[encoded data removed]",
            "text/plain": [
              "<Figure size 432x288 with 1 Axes>"
            ]
          },
          "metadata": {
            "tags": [],
            "needs_background": "light"
          }
        },
        {
          "output_type": "display_data",
          "data": {
            "image/png": "[encoded data removed]",
            "text/plain": [
              "<Figure size 432x288 with 1 Axes>"
            ]
          },
          "metadata": {
            "tags": [],
            "needs_background": "light"
          }
        }
      ]
    },
    {
      "cell_type": "markdown",
      "metadata": {
        "id": "KGx387RZ6G1Y",
        "colab_type": "text"
      },
      "source": [
        "### test model"
      ]
    },
    {
      "cell_type": "code",
      "metadata": {
        "id": "Wg7wqMf_1QzZ",
        "colab_type": "code",
        "colab": {}
      },
      "source": [
        "model.load_weights('/content/drive/My Drive/Models_Resnet/ExtraCredit/images_only/model-epoch-008-valacc-0.770833.h5')"
      ],
      "execution_count": 0,
      "outputs": []
    },
    {
      "cell_type": "code",
      "metadata": {
        "id": "J5UfrEA86Kl-",
        "colab_type": "code",
        "outputId": "08c97d1b-c12f-405b-8914-03dfac165358",
        "colab": {
          "base_uri": "https://localhost:8080/",
          "height": 530
        }
      },
      "source": [
        "test_generator.reset()\n",
        "ypred = model.predict_generator(test_generator, steps=len(test_generator))\n",
        "ypred_labels = np.argmax(ypred, axis=1)\n",
        "ypred_onehot = to_categorical(ypred_labels, num_classes=5)\n",
        "\n",
        "print('\\nTest distribution: ')\n",
        "print(np.bincount(ypred_labels))\n",
        "print('\\nAccuracy for Resnet50 base + 2 FC layers: ', accuracy_score(y_test_single, ypred_labels))\n",
        "weather_matrix = confusion_matrix(y_test_single, ypred_labels)\n",
        "print('\\nThe confusion matrix is:')\n",
        "print(weather_matrix)\n",
        "print('\\n The classification report is: ')\n",
        "print(classification_report(y_test_single, ypred_labels))"
      ],
      "execution_count": 17,
      "outputs": [
        {
          "output_type": "stream",
          "text": [
            "WARNING:tensorflow:From <ipython-input-17-600caf45b79c>:2: Model.predict_generator (from tensorflow.python.keras.engine.training) is deprecated and will be removed in a future version.\n",
            "Instructions for updating:\n",
            "Please use Model.predict, which supports generators.\n",
            "\n",
            "Test distribution: \n",
            "[24 17 14 27 18]\n",
            "\n",
            "Accuracy for Resnet50 base + 2 FC layers:  0.78\n",
            "\n",
            "The confusion matrix is:\n",
            "[[18  2  0  0  0]\n",
            " [ 3 15  1  1  0]\n",
            " [ 3  0 11  6  0]\n",
            " [ 0  0  2 17  1]\n",
            " [ 0  0  0  3 17]]\n",
            "\n",
            " The classification report is: \n",
            "              precision    recall  f1-score   support\n",
            "\n",
            "           0       0.75      0.90      0.82        20\n",
            "           1       0.88      0.75      0.81        20\n",
            "           2       0.79      0.55      0.65        20\n",
            "           3       0.63      0.85      0.72        20\n",
            "           4       0.94      0.85      0.89        20\n",
            "\n",
            "    accuracy                           0.78       100\n",
            "   macro avg       0.80      0.78      0.78       100\n",
            "weighted avg       0.80      0.78      0.78       100\n",
            "\n"
          ],
          "name": "stdout"
        }
      ]
    },
    {
      "cell_type": "markdown",
      "metadata": {
        "id": "Vtyr3vStDRMx",
        "colab_type": "text"
      },
      "source": [
        "## 3. Predictions using tabular + image data models (ensembling)"
      ]
    },
    {
      "cell_type": "code",
      "metadata": {
        "id": "2xFa39NsLEzs",
        "colab_type": "code",
        "colab": {}
      },
      "source": [
        "yPred_decision_norm = yPred_decision/yPred_decision.sum(axis=1,keepdims=True)"
      ],
      "execution_count": 0,
      "outputs": []
    },
    {
      "cell_type": "code",
      "metadata": {
        "id": "RzpTbCIkewOT",
        "colab_type": "code",
        "outputId": "1339f66c-56d4-45ef-bceb-9f091ee4117c",
        "colab": {
          "base_uri": "https://localhost:8080/",
          "height": 459
        }
      },
      "source": [
        "svm_wt = 1\n",
        "nn_wt = 1\n",
        "\n",
        "final_pred = svm_wt * yPred_decision_norm + nn_wt * ypred\n",
        "final_pred_labels = np.argmax(final_pred, axis=1)\n",
        "\n",
        "print('\\nTest distribution: ')\n",
        "print(np.bincount(final_pred_labels))\n",
        "print('\\nAccuracy for ensemble model: ', accuracy_score(y_test_single, final_pred_labels))\n",
        "weather_matrix = confusion_matrix(y_test_single, final_pred_labels)\n",
        "print('\\nThe confusion matrix is:')\n",
        "print(weather_matrix)\n",
        "print('\\n The classification report is: ')\n",
        "print(classification_report(y_test_single, final_pred_labels))"
      ],
      "execution_count": 19,
      "outputs": [
        {
          "output_type": "stream",
          "text": [
            "\n",
            "Test distribution: \n",
            "[21 21 13 27 18]\n",
            "\n",
            "Accuracy for ensemble model:  0.82\n",
            "\n",
            "The confusion matrix is:\n",
            "[[18  2  0  0  0]\n",
            " [ 0 19  0  1  0]\n",
            " [ 3  0 11  6  0]\n",
            " [ 0  0  2 17  1]\n",
            " [ 0  0  0  3 17]]\n",
            "\n",
            " The classification report is: \n",
            "              precision    recall  f1-score   support\n",
            "\n",
            "           0       0.86      0.90      0.88        20\n",
            "           1       0.90      0.95      0.93        20\n",
            "           2       0.85      0.55      0.67        20\n",
            "           3       0.63      0.85      0.72        20\n",
            "           4       0.94      0.85      0.89        20\n",
            "\n",
            "    accuracy                           0.82       100\n",
            "   macro avg       0.84      0.82      0.82       100\n",
            "weighted avg       0.84      0.82      0.82       100\n",
            "\n"
          ],
          "name": "stdout"
        }
      ]
    },
    {
      "cell_type": "code",
      "metadata": {
        "id": "Bz0BZQOgfkHm",
        "colab_type": "code",
        "colab": {}
      },
      "source": [
        ""
      ],
      "execution_count": 0,
      "outputs": []
    }
  ]
}