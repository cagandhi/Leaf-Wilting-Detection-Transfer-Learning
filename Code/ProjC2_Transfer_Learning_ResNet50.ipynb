{
  "nbformat": 4,
  "nbformat_minor": 0,
  "metadata": {
    "colab": {
      "name": "ProjC2_Transfer_Learning.ipynb",
      "provenance": [],
      "collapsed_sections": []
    },
    "kernelspec": {
      "name": "python3",
      "display_name": "Python 3"
    },
    "accelerator": "GPU"
  },
  "cells": [
    {
      "cell_type": "markdown",
      "metadata": {
        "id": "QwVHVTq2NJ3d",
        "colab_type": "text"
      },
      "source": [
        "### mount google drive"
      ]
    },
    {
      "cell_type": "markdown",
      "metadata": {
        "id": "jZ5wg6ilDiJP",
        "colab_type": "text"
      },
      "source": [
        "## DATA PREPROCESSING IN RUNTIME"
      ]
    },
    {
      "cell_type": "code",
      "metadata": {
        "id": "LfbLqFc2ZzV4",
        "colab_type": "code",
        "outputId": "754ed160-22c1-4e7b-d144-ca4b9a733dd0",
        "colab": {
          "base_uri": "https://localhost:8080/",
          "height": 122
        }
      },
      "source": [
        "from google.colab import drive\n",
        "drive.mount('/content/drive')"
      ],
      "execution_count": 0,
      "outputs": [
        {
          "output_type": "stream",
          "text": [
            "Go to this URL in a browser: https://accounts.google.com/o/oauth2/auth?client_id=947318989803-6bn6qk8qdgf4n4g3pfee6491hc0brc4i.apps.googleusercontent.com&redirect_uri=urn%3aietf%3awg%3aoauth%3a2.0%3aoob&response_type=code&scope=email%20https%3a%2f%2fwww.googleapis.com%2fauth%2fdocs.test%20https%3a%2f%2fwww.googleapis.com%2fauth%2fdrive%20https%3a%2f%2fwww.googleapis.com%2fauth%2fdrive.photos.readonly%20https%3a%2f%2fwww.googleapis.com%2fauth%2fpeopleapi.readonly\n",
            "\n",
            "Enter your authorization code:\n",
            "··········\n",
            "Mounted at /content/drive\n"
          ],
          "name": "stdout"
        }
      ]
    },
    {
      "cell_type": "markdown",
      "metadata": {
        "id": "7AeV3PQcNPJl",
        "colab_type": "text"
      },
      "source": [
        "### copy leaf data to local runtime for faster processing"
      ]
    },
    {
      "cell_type": "code",
      "metadata": {
        "id": "5Trh6mXFxKjs",
        "colab_type": "code",
        "colab": {}
      },
      "source": [
        "!rm -rf TrainData/\n",
        "!mkdir TrainData/\n",
        "!cp /content/drive/My\\ Drive/train_val_split_projc2.zip TrainData/\n",
        "!unzip -q TrainData/train_val_split_projc2.zip -d TrainData/"
      ],
      "execution_count": 0,
      "outputs": []
    },
    {
      "cell_type": "markdown",
      "metadata": {
        "id": "e5fyGSdNUA0l",
        "colab_type": "text"
      },
      "source": [
        "### check no of images in training and validation"
      ]
    },
    {
      "cell_type": "code",
      "metadata": {
        "id": "KUgNTbxpTzUj",
        "colab_type": "code",
        "outputId": "db6f6d58-e360-4c91-aa66-fedf1cacc3df",
        "colab": {
          "base_uri": "https://localhost:8080/",
          "height": 51
        }
      },
      "source": [
        "!ls TrainData/train | wc -l && ls TrainData/val | wc -l"
      ],
      "execution_count": 0,
      "outputs": [
        {
          "output_type": "stream",
          "text": [
            "1020\n",
            "255\n"
          ],
          "name": "stdout"
        }
      ]
    },
    {
      "cell_type": "markdown",
      "metadata": {
        "id": "bLxbf3GkNM4S",
        "colab_type": "text"
      },
      "source": [
        "### remove train_sep and val_sep folders if they exist"
      ]
    },
    {
      "cell_type": "code",
      "metadata": {
        "id": "n7e1MZapNMD7",
        "colab_type": "code",
        "colab": {}
      },
      "source": [
        "!rm -rf TrainData/train_sep\n",
        "!rm -rf TrainData/val_sep"
      ],
      "execution_count": 0,
      "outputs": []
    },
    {
      "cell_type": "markdown",
      "metadata": {
        "colab_type": "text",
        "id": "bzJnz4YsNeKO"
      },
      "source": [
        "### import libraries"
      ]
    },
    {
      "cell_type": "code",
      "metadata": {
        "id": "vmuj8b3hOIdM",
        "colab_type": "code",
        "outputId": "3d36cb78-8216-415b-aab3-0dfae7b24de1",
        "colab": {
          "base_uri": "https://localhost:8080/",
          "height": 34
        }
      },
      "source": [
        "import numpy as np\n",
        "import pandas as pd\n",
        "import os, random, math, glob, cv2, pickle\n",
        "from datetime import datetime\n",
        "\n",
        "import matplotlib.pyplot as plt\n",
        "%matplotlib inline\n",
        "\n",
        "from sklearn.utils import shuffle\n",
        "from sklearn.model_selection import  train_test_split\n",
        "from keras.utils import to_categorical\n",
        "from sklearn.decomposition import PCA\n",
        "from sklearn.svm import LinearSVC\n",
        "from sklearn.metrics import confusion_matrix, classification_report\n",
        "\n",
        "from skimage.io import imread, imshow\n",
        "from skimage.transform import resize\n",
        "from skimage.feature import hog\n",
        "from skimage import exposure"
      ],
      "execution_count": 0,
      "outputs": [
        {
          "output_type": "stream",
          "text": [
            "Using TensorFlow backend.\n"
          ],
          "name": "stderr"
        }
      ]
    },
    {
      "cell_type": "markdown",
      "metadata": {
        "id": "Gn8ooAtkUHHx",
        "colab_type": "text"
      },
      "source": [
        "### make folders for class labels"
      ]
    },
    {
      "cell_type": "code",
      "metadata": {
        "id": "Ze_GuuOGUGfR",
        "colab_type": "code",
        "colab": {}
      },
      "source": [
        "n_class = 5\n",
        "class_labels = list(range(n_class))\n",
        "\n",
        "base_dir = 'TrainData/'\n",
        "\n",
        "train_input = 'TrainData/train/'\n",
        "val_input = 'TrainData/val/'\n",
        "\n",
        "train_save = base_dir+'train_sep/'\n",
        "val_save = base_dir+'/val_sep/'\n",
        "\n",
        "if os.path.exists(train_save):\n",
        "    os.system('rm -rf '+train_save)\n",
        "if os.path.exists(val_save):\n",
        "    os.system('rm -rf '+val_save)\n",
        "\n",
        "os.mkdir(train_save)\n",
        "os.mkdir(val_save)\n",
        "\n",
        "# validation\n",
        "for filenm in glob.glob(val_input+'*.jpg'):\n",
        "    filename = filenm.split('/')[-1]\n",
        "    label = filename.split('.')[0].split('_')[-1]\n",
        "\n",
        "    # print(filename, label)\n",
        "\n",
        "    dest_dir = val_save+label+'/'\n",
        "    if not os.path.exists(dest_dir):\n",
        "        os.mkdir(dest_dir)\n",
        "    \n",
        "    # print(dest_dir)\n",
        "    cmd = 'cp '+filenm+' '+dest_dir+filename\n",
        "    # print(cmd)\n",
        "    os.system(cmd)\n",
        "\n",
        "# train\n",
        "for filenm in glob.glob(train_input+'*.jpg'):\n",
        "    filename = filenm.split('/')[-1]\n",
        "    label = filename.split('.')[0].split('_')[-1]\n",
        "\n",
        "    # print(filename, label)\n",
        "\n",
        "    dest_dir = train_save+label+'/'\n",
        "    if not os.path.exists(dest_dir):\n",
        "        os.mkdir(dest_dir)\n",
        "    \n",
        "    # print(dest_dir)\n",
        "    cmd = 'cp '+filenm+' '+dest_dir+filename\n",
        "    # print(cmd)\n",
        "    os.system(cmd)"
      ],
      "execution_count": 0,
      "outputs": []
    },
    {
      "cell_type": "markdown",
      "metadata": {
        "id": "mEL8JgF3a9wu",
        "colab_type": "text"
      },
      "source": [
        "### verify if images have been copied properly"
      ]
    },
    {
      "cell_type": "code",
      "metadata": {
        "id": "QEDat3eiZQub",
        "colab_type": "code",
        "outputId": "e96422a9-c6de-464e-da64-6be8e057aaec",
        "colab": {
          "base_uri": "https://localhost:8080/",
          "height": 187
        }
      },
      "source": [
        "!ls TrainData/val_sep/0 | wc -l\n",
        "!ls TrainData/val_sep/1 | wc -l\n",
        "!ls TrainData/val_sep/2 | wc -l\n",
        "!ls TrainData/val_sep/3 | wc -l\n",
        "!ls TrainData/val_sep/4 | wc -l\n",
        "\n",
        "!ls TrainData/train_sep/0 | wc -l\n",
        "!ls TrainData/train_sep/1 | wc -l\n",
        "!ls TrainData/train_sep/2 | wc -l\n",
        "!ls TrainData/train_sep/3 | wc -l\n",
        "!ls TrainData/train_sep/4 | wc -l"
      ],
      "execution_count": 0,
      "outputs": [
        {
          "output_type": "stream",
          "text": [
            "51\n",
            "51\n",
            "51\n",
            "51\n",
            "51\n",
            "437\n",
            "278\n",
            "79\n",
            "80\n",
            "146\n"
          ],
          "name": "stdout"
        }
      ]
    },
    {
      "cell_type": "markdown",
      "metadata": {
        "id": "iKWAY2qDC9vD",
        "colab_type": "text"
      },
      "source": [
        "### determine class weights for imbalanced training"
      ]
    },
    {
      "cell_type": "code",
      "metadata": {
        "id": "sa7H5LFVAs6-",
        "colab_type": "code",
        "outputId": "008cbc52-76c6-4b18-ad6e-769b34d1bb38",
        "colab": {
          "base_uri": "https://localhost:8080/",
          "height": 51
        }
      },
      "source": [
        "import fnmatch\n",
        "import numpy as np\n",
        "from sklearn.utils import class_weight\n",
        "\n",
        "y=[]\n",
        "for i in range(5):\n",
        "    y.extend([i for j in range(len(fnmatch.filter(os.listdir('TrainData/train_sep/'+str(i)), '*.jpg')))])\n",
        "\n",
        "print(np.bincount(y))\n",
        "\n",
        "class_weights = class_weight.compute_class_weight('balanced', np.unique(y), y)\n",
        "class_weights_dict = dict(zip(range(5), class_weights))\n",
        "print(class_weights_dict)"
      ],
      "execution_count": 0,
      "outputs": [
        {
          "output_type": "stream",
          "text": [
            "[437 278  79  80 146]\n",
            "{0: 0.4668192219679634, 1: 0.7338129496402878, 2: 2.5822784810126582, 3: 2.55, 4: 1.3972602739726028}\n"
          ],
          "name": "stdout"
        }
      ]
    },
    {
      "cell_type": "markdown",
      "metadata": {
        "id": "QyliEHHJb8dp",
        "colab_type": "text"
      },
      "source": [
        "## TRANSFER LEARNING CODE"
      ]
    },
    {
      "cell_type": "markdown",
      "metadata": {
        "colab_type": "text",
        "id": "Ldw08HoRSzU0"
      },
      "source": [
        "### delete model h5 files if experiment useless"
      ]
    },
    {
      "cell_type": "code",
      "metadata": {
        "colab_type": "code",
        "id": "9P5U1LizSzU2",
        "colab": {}
      },
      "source": [
        "!rm *.h5"
      ],
      "execution_count": 0,
      "outputs": []
    },
    {
      "cell_type": "code",
      "metadata": {
        "id": "rCIfUJbqcG1s",
        "colab_type": "code",
        "colab": {}
      },
      "source": [
        "import pandas as pd\n",
        "import numpy as np\n",
        "import os\n",
        "import keras\n",
        "import matplotlib.pyplot as plt\n",
        "from tensorflow.keras.layers import Dense,GlobalAveragePooling2D\n",
        "from tensorflow.keras.applications import InceptionResNetV2, VGG16, ResNet50\n",
        "from tensorflow.keras.preprocessing import image\n",
        "from tensorflow.keras.applications.resnet import preprocess_input\n",
        "from tensorflow.keras.preprocessing.image import ImageDataGenerator\n",
        "from tensorflow.keras.models import Model\n",
        "from tensorflow.keras.optimizers import Adam, SGD"
      ],
      "execution_count": 0,
      "outputs": []
    },
    {
      "cell_type": "markdown",
      "metadata": {
        "id": "kuKxC4RkWkEr",
        "colab_type": "text"
      },
      "source": [
        "### define model based on variable \"model_to_use\""
      ]
    },
    {
      "cell_type": "code",
      "metadata": {
        "id": "OX6LkL42c05f",
        "colab_type": "code",
        "outputId": "83f346f9-c44a-425e-8063-9c525b231b58",
        "colab": {
          "base_uri": "https://localhost:8080/",
          "height": 71
        }
      },
      "source": [
        "model_to_use='resnet50'\n",
        "\n",
        "base_model=ResNet50(weights='imagenet',include_top=False)\n",
        "for layer in base_model.layers:\n",
        "    layer.trainable=False\n",
        "\n",
        "x=base_model.output\n",
        "x=GlobalAveragePooling2D()(x)\n",
        "x=Dense(128,activation='relu')(x)\n",
        "x=Dense(128,activation='relu')(x)\n",
        "preds=Dense(5,activation='softmax')(x) \n",
        "\n",
        "model=Model(inputs=base_model.input, outputs=preds)"
      ],
      "execution_count": 0,
      "outputs": [
        {
          "output_type": "stream",
          "text": [
            "Downloading data from https://storage.googleapis.com/tensorflow/keras-applications/resnet/resnet50_weights_tf_dim_ordering_tf_kernels_notop.h5\n",
            "94773248/94765736 [==============================] - 1s 0us/step\n"
          ],
          "name": "stdout"
        }
      ]
    },
    {
      "cell_type": "markdown",
      "metadata": {
        "id": "bkYoaCH4WqT2",
        "colab_type": "text"
      },
      "source": [
        "### define train and validation generators and images folders"
      ]
    },
    {
      "cell_type": "code",
      "metadata": {
        "id": "M-XqkiDedXY2",
        "colab_type": "code",
        "outputId": "8ec7600b-008c-4b42-c676-65b88e370102",
        "colab": {
          "base_uri": "https://localhost:8080/",
          "height": 51
        }
      },
      "source": [
        "base_dir = 'TrainData/'\n",
        "\n",
        "train_save = base_dir+'train_sep/'\n",
        "val_save = base_dir+'/val_sep/'\n",
        "\n",
        "#train\n",
        "train_datagen = ImageDataGenerator(preprocessing_function=preprocess_input,\n",
        "                                    rotation_range=15,\n",
        "                                    shear_range=0.2,\n",
        "                                    width_shift_range=0.2,\n",
        "                                    height_shift_range=0.2,\n",
        "                                    zoom_range=0.2,\n",
        "                                    brightness_range=(0.1, 0.9),\n",
        "                                    channel_shift_range=150.0,\n",
        "                                    horizontal_flip=True)\n",
        "\n",
        "train_generator=train_datagen.flow_from_directory(train_save, \n",
        "                                                target_size=(224,224),\n",
        "                                                color_mode='rgb',\n",
        "                                                batch_size=16,\n",
        "                                                class_mode='categorical',\n",
        "                                                shuffle=True)\n",
        "# val\n",
        "val_datagen = ImageDataGenerator(preprocessing_function=preprocess_input) \n",
        "\n",
        "val_generator=val_datagen.flow_from_directory(val_save, \n",
        "                                                target_size=(224,224),\n",
        "                                                color_mode='rgb',\n",
        "                                                batch_size=16,\n",
        "                                                class_mode='categorical',\n",
        "                                                shuffle=False)"
      ],
      "execution_count": 0,
      "outputs": [
        {
          "output_type": "stream",
          "text": [
            "Found 1020 images belonging to 5 classes.\n",
            "Found 255 images belonging to 5 classes.\n"
          ],
          "name": "stdout"
        }
      ]
    },
    {
      "cell_type": "markdown",
      "metadata": {
        "id": "cgqrLb-fW0Ea",
        "colab_type": "text"
      },
      "source": [
        "### train model and save the best validation accuracy checkpoint"
      ]
    },
    {
      "cell_type": "code",
      "metadata": {
        "id": "f1HcMqyBetX9",
        "colab_type": "code",
        "outputId": "2591163e-1505-4724-e287-588e845fab2a",
        "colab": {
          "base_uri": "https://localhost:8080/",
          "height": 1000
        }
      },
      "source": [
        "from tensorflow.keras.callbacks import ModelCheckpoint, EarlyStopping\n",
        "\n",
        "model.compile(optimizer='Adam',loss='categorical_crossentropy',metrics=['accuracy'])\n",
        "\n",
        "step_size_train=train_generator.n//train_generator.batch_size\n",
        "step_size_val=val_generator.n//val_generator.batch_size\n",
        "\n",
        "earlystop = EarlyStopping(monitor='val_accuracy', patience=10)\n",
        "checkpoint = ModelCheckpoint('model-epoch-{epoch:03d}-valacc-{val_accuracy:03f}.h5', verbose=1, monitor='val_accuracy',save_best_only=True, mode='auto')  \n",
        "\n",
        "no_epochs = 25\n",
        "hist = model.fit_generator(train_generator,\n",
        "                   steps_per_epoch=step_size_train,\n",
        "                   epochs=no_epochs,\n",
        "                   validation_data=val_generator,\n",
        "                   validation_steps=step_size_val,\n",
        "                   callbacks=[earlystop, checkpoint], #callbacks=[checkpoint],\n",
        "                   class_weight=class_weights_dict)"
      ],
      "execution_count": 0,
      "outputs": [
        {
          "output_type": "stream",
          "text": [
            "WARNING:tensorflow:From <ipython-input-13-f9293cfc74c8>:18: Model.fit_generator (from tensorflow.python.keras.engine.training) is deprecated and will be removed in a future version.\n",
            "Instructions for updating:\n",
            "Please use Model.fit, which supports generators.\n",
            "Epoch 1/25\n",
            "63/63 [==============================] - ETA: 0s - loss: 1.5031 - accuracy: 0.3661\n",
            "Epoch 00001: val_accuracy improved from -inf to 0.48750, saving model to model-epoch-001-valacc-0.487500.h5\n",
            "63/63 [==============================] - 22s 355ms/step - loss: 1.5031 - accuracy: 0.3661 - val_loss: 1.3337 - val_accuracy: 0.4875\n",
            "Epoch 2/25\n",
            "63/63 [==============================] - ETA: 0s - loss: 1.1780 - accuracy: 0.5229\n",
            "Epoch 00002: val_accuracy improved from 0.48750 to 0.53750, saving model to model-epoch-002-valacc-0.537500.h5\n",
            "63/63 [==============================] - 22s 346ms/step - loss: 1.1780 - accuracy: 0.5229 - val_loss: 1.0846 - val_accuracy: 0.5375\n",
            "Epoch 3/25\n",
            "63/63 [==============================] - ETA: 0s - loss: 1.0976 - accuracy: 0.5508\n",
            "Epoch 00003: val_accuracy did not improve from 0.53750\n",
            "63/63 [==============================] - 21s 341ms/step - loss: 1.0976 - accuracy: 0.5508 - val_loss: 1.0280 - val_accuracy: 0.5250\n",
            "Epoch 4/25\n",
            "63/63 [==============================] - ETA: 0s - loss: 1.0185 - accuracy: 0.6096\n",
            "Epoch 00004: val_accuracy did not improve from 0.53750\n",
            "63/63 [==============================] - 21s 340ms/step - loss: 1.0185 - accuracy: 0.6096 - val_loss: 1.2090 - val_accuracy: 0.4917\n",
            "Epoch 5/25\n",
            "63/63 [==============================] - ETA: 0s - loss: 0.9402 - accuracy: 0.6305\n",
            "Epoch 00005: val_accuracy improved from 0.53750 to 0.55833, saving model to model-epoch-005-valacc-0.558333.h5\n",
            "63/63 [==============================] - 22s 348ms/step - loss: 0.9402 - accuracy: 0.6305 - val_loss: 1.1033 - val_accuracy: 0.5583\n",
            "Epoch 6/25\n",
            "63/63 [==============================] - ETA: 0s - loss: 0.8760 - accuracy: 0.6713\n",
            "Epoch 00006: val_accuracy did not improve from 0.55833\n",
            "63/63 [==============================] - 21s 339ms/step - loss: 0.8760 - accuracy: 0.6713 - val_loss: 1.2746 - val_accuracy: 0.5167\n",
            "Epoch 7/25\n",
            "63/63 [==============================] - ETA: 0s - loss: 0.9234 - accuracy: 0.6325\n",
            "Epoch 00007: val_accuracy did not improve from 0.55833\n",
            "63/63 [==============================] - 21s 340ms/step - loss: 0.9234 - accuracy: 0.6325 - val_loss: 1.1842 - val_accuracy: 0.5208\n",
            "Epoch 8/25\n",
            "63/63 [==============================] - ETA: 0s - loss: 0.8752 - accuracy: 0.6594\n",
            "Epoch 00008: val_accuracy did not improve from 0.55833\n",
            "63/63 [==============================] - 21s 338ms/step - loss: 0.8752 - accuracy: 0.6594 - val_loss: 1.1191 - val_accuracy: 0.5542\n",
            "Epoch 9/25\n",
            "63/63 [==============================] - ETA: 0s - loss: 0.8494 - accuracy: 0.6633\n",
            "Epoch 00009: val_accuracy did not improve from 0.55833\n",
            "63/63 [==============================] - 21s 338ms/step - loss: 0.8494 - accuracy: 0.6633 - val_loss: 1.1078 - val_accuracy: 0.5500\n",
            "Epoch 10/25\n",
            "63/63 [==============================] - ETA: 0s - loss: 0.7949 - accuracy: 0.6922\n",
            "Epoch 00010: val_accuracy did not improve from 0.55833\n",
            "63/63 [==============================] - 21s 340ms/step - loss: 0.7949 - accuracy: 0.6922 - val_loss: 1.0471 - val_accuracy: 0.5500\n",
            "Epoch 11/25\n",
            "63/63 [==============================] - ETA: 0s - loss: 0.8081 - accuracy: 0.6713\n",
            "Epoch 00011: val_accuracy did not improve from 0.55833\n",
            "63/63 [==============================] - 21s 340ms/step - loss: 0.8081 - accuracy: 0.6713 - val_loss: 1.1910 - val_accuracy: 0.5250\n",
            "Epoch 12/25\n",
            "63/63 [==============================] - ETA: 0s - loss: 0.8130 - accuracy: 0.6853\n",
            "Epoch 00012: val_accuracy did not improve from 0.55833\n",
            "63/63 [==============================] - 21s 333ms/step - loss: 0.8130 - accuracy: 0.6853 - val_loss: 1.2126 - val_accuracy: 0.5167\n",
            "Epoch 13/25\n",
            "63/63 [==============================] - ETA: 0s - loss: 0.8191 - accuracy: 0.6833\n",
            "Epoch 00013: val_accuracy did not improve from 0.55833\n",
            "63/63 [==============================] - 21s 335ms/step - loss: 0.8191 - accuracy: 0.6833 - val_loss: 1.2077 - val_accuracy: 0.5375\n",
            "Epoch 14/25\n",
            "63/63 [==============================] - ETA: 0s - loss: 0.7574 - accuracy: 0.7112\n",
            "Epoch 00014: val_accuracy did not improve from 0.55833\n",
            "63/63 [==============================] - 21s 334ms/step - loss: 0.7574 - accuracy: 0.7112 - val_loss: 1.1081 - val_accuracy: 0.5583\n",
            "Epoch 15/25\n",
            "63/63 [==============================] - ETA: 0s - loss: 0.7809 - accuracy: 0.6992\n",
            "Epoch 00015: val_accuracy improved from 0.55833 to 0.58750, saving model to model-epoch-015-valacc-0.587500.h5\n",
            "63/63 [==============================] - 22s 344ms/step - loss: 0.7809 - accuracy: 0.6992 - val_loss: 1.0763 - val_accuracy: 0.5875\n",
            "Epoch 16/25\n",
            "63/63 [==============================] - ETA: 0s - loss: 0.8910 - accuracy: 0.6534\n",
            "Epoch 00016: val_accuracy did not improve from 0.58750\n",
            "63/63 [==============================] - 21s 338ms/step - loss: 0.8910 - accuracy: 0.6534 - val_loss: 1.1112 - val_accuracy: 0.5333\n",
            "Epoch 17/25\n",
            "63/63 [==============================] - ETA: 0s - loss: 0.7145 - accuracy: 0.7151\n",
            "Epoch 00017: val_accuracy did not improve from 0.58750\n",
            "63/63 [==============================] - 21s 336ms/step - loss: 0.7145 - accuracy: 0.7151 - val_loss: 1.0425 - val_accuracy: 0.5625\n",
            "Epoch 18/25\n",
            "63/63 [==============================] - ETA: 0s - loss: 0.7618 - accuracy: 0.7171\n",
            "Epoch 00018: val_accuracy did not improve from 0.58750\n",
            "63/63 [==============================] - 21s 333ms/step - loss: 0.7618 - accuracy: 0.7171 - val_loss: 1.0963 - val_accuracy: 0.5458\n",
            "Epoch 19/25\n",
            "63/63 [==============================] - ETA: 0s - loss: 0.6869 - accuracy: 0.7171\n",
            "Epoch 00019: val_accuracy improved from 0.58750 to 0.61250, saving model to model-epoch-019-valacc-0.612500.h5\n",
            "63/63 [==============================] - 22s 348ms/step - loss: 0.6869 - accuracy: 0.7171 - val_loss: 0.9528 - val_accuracy: 0.6125\n",
            "Epoch 20/25\n",
            "63/63 [==============================] - ETA: 0s - loss: 0.7157 - accuracy: 0.7062\n",
            "Epoch 00020: val_accuracy improved from 0.61250 to 0.61667, saving model to model-epoch-020-valacc-0.616667.h5\n",
            "63/63 [==============================] - 22s 343ms/step - loss: 0.7157 - accuracy: 0.7062 - val_loss: 0.9272 - val_accuracy: 0.6167\n",
            "Epoch 21/25\n",
            "63/63 [==============================] - ETA: 0s - loss: 0.7130 - accuracy: 0.7171\n",
            "Epoch 00021: val_accuracy improved from 0.61667 to 0.62083, saving model to model-epoch-021-valacc-0.620833.h5\n",
            "63/63 [==============================] - 21s 340ms/step - loss: 0.7130 - accuracy: 0.7171 - val_loss: 0.9463 - val_accuracy: 0.6208\n",
            "Epoch 22/25\n",
            "63/63 [==============================] - ETA: 0s - loss: 0.7762 - accuracy: 0.7072\n",
            "Epoch 00022: val_accuracy improved from 0.62083 to 0.62500, saving model to model-epoch-022-valacc-0.625000.h5\n",
            "63/63 [==============================] - 22s 346ms/step - loss: 0.7762 - accuracy: 0.7072 - val_loss: 0.9936 - val_accuracy: 0.6250\n",
            "Epoch 23/25\n",
            "63/63 [==============================] - ETA: 0s - loss: 0.7155 - accuracy: 0.7361\n",
            "Epoch 00023: val_accuracy did not improve from 0.62500\n",
            "63/63 [==============================] - 21s 336ms/step - loss: 0.7155 - accuracy: 0.7361 - val_loss: 0.9657 - val_accuracy: 0.5875\n",
            "Epoch 24/25\n",
            "63/63 [==============================] - ETA: 0s - loss: 0.7211 - accuracy: 0.7092\n",
            "Epoch 00024: val_accuracy did not improve from 0.62500\n",
            "63/63 [==============================] - 21s 341ms/step - loss: 0.7211 - accuracy: 0.7092 - val_loss: 0.9852 - val_accuracy: 0.6000\n",
            "Epoch 25/25\n",
            "63/63 [==============================] - ETA: 0s - loss: 0.7397 - accuracy: 0.7141\n",
            "Epoch 00025: val_accuracy did not improve from 0.62500\n",
            "63/63 [==============================] - 21s 334ms/step - loss: 0.7397 - accuracy: 0.7141 - val_loss: 1.0191 - val_accuracy: 0.5958\n"
          ],
          "name": "stdout"
        }
      ]
    },
    {
      "cell_type": "markdown",
      "metadata": {
        "id": "zLuwN981W6Mp",
        "colab_type": "text"
      },
      "source": [
        "### visualize training and validation loss and accuracy"
      ]
    },
    {
      "cell_type": "code",
      "metadata": {
        "id": "sk-VI0XTfnTK",
        "colab_type": "code",
        "outputId": "69f08759-1b2f-4df7-a809-462eebf07216",
        "colab": {
          "base_uri": "https://localhost:8080/",
          "height": 543
        }
      },
      "source": [
        "# visualizing losses and accuracy\n",
        "train_loss = hist.history['loss']\n",
        "val_loss = hist.history['val_loss']\n",
        "train_accu = hist.history['accuracy']\n",
        "val_accu = hist.history['val_accuracy']\n",
        "xc = range(len(train_loss))\n",
        "\n",
        "plt.figure()\n",
        "plt.plot(xc, train_loss, label='Training loss')\n",
        "plt.plot(xc, val_loss, label='Validation loss')\n",
        "plt.legend(loc=\"lower left\")\n",
        "plt.xlabel('Epochs')\n",
        "plt.ylabel('Loss')\n",
        "plt.savefig('train_val_loss.png')\n",
        "plt.show()\n",
        "\n",
        "plt.figure()\n",
        "plt.plot(xc, train_accu, label='Training accuracy')\n",
        "plt.plot(xc, val_accu, label='Validation accuracy')\n",
        "plt.legend(loc=\"lower left\")\n",
        "plt.xlabel('Epochs')\n",
        "plt.ylabel('Accuracy')\n",
        "plt.savefig('train_val_accuracy.png')\n",
        "plt.show()"
      ],
      "execution_count": 0,
      "outputs": [
        {
          "output_type": "display_data",
          "data": {
            "image/png": "[encoded data removed]",
            "text/plain": [
              "<Figure size 432x288 with 1 Axes>"
            ]
          },
          "metadata": {
            "tags": [],
            "needs_background": "light"
          }
        },
        {
          "output_type": "display_data",
          "data": {
            "image/png": "[encoded data removed]",
            "text/plain": [
              "<Figure size 432x288 with 1 Axes>"
            ]
          },
          "metadata": {
            "tags": [],
            "needs_background": "light"
          }
        }
      ]
    },
    {
      "cell_type": "markdown",
      "metadata": {
        "id": "5GNM2wftSKxL",
        "colab_type": "text"
      },
      "source": [
        "## VALIDATE MODEL"
      ]
    },
    {
      "cell_type": "markdown",
      "metadata": {
        "id": "BVYT3hXUXCky",
        "colab_type": "text"
      },
      "source": [
        "### load model with best validation accuracy"
      ]
    },
    {
      "cell_type": "code",
      "metadata": {
        "id": "JuKzeU-k4lA4",
        "colab_type": "code",
        "colab": {}
      },
      "source": [
        "from sklearn.metrics import confusion_matrix, accuracy_score, classification_report\n",
        "\n",
        "model_path = '/content/drive/My Drive/Models_Resnet/classweight/Best_model/model-epoch-024-valacc-0.625000.h5'\n",
        "model.load_weights(model_path)"
      ],
      "execution_count": 0,
      "outputs": []
    },
    {
      "cell_type": "markdown",
      "metadata": {
        "id": "5Nf5kMVBXL_k",
        "colab_type": "text"
      },
      "source": [
        "### model predict on validation data "
      ]
    },
    {
      "cell_type": "code",
      "metadata": {
        "id": "jmzV29eX_W-9",
        "colab_type": "code",
        "outputId": "b58851ae-b4af-4531-fa59-23e83d0c64b3",
        "colab": {
          "base_uri": "https://localhost:8080/",
          "height": 34
        }
      },
      "source": [
        "val_generator.reset()\n",
        "val_steps = np.math.ceil(val_generator.samples/val_generator.batch_size)\n",
        "ypred = model.predict_generator(val_generator, steps=len(val_generator))\n",
        "\n",
        "print(ypred.shape)"
      ],
      "execution_count": 0,
      "outputs": [
        {
          "output_type": "stream",
          "text": [
            "(255, 5)\n"
          ],
          "name": "stdout"
        }
      ]
    },
    {
      "cell_type": "markdown",
      "metadata": {
        "id": "MnK9peEbXS5h",
        "colab_type": "text"
      },
      "source": [
        "### final class labels for validation images"
      ]
    },
    {
      "cell_type": "code",
      "metadata": {
        "id": "TPZKgls6Kvn5",
        "colab_type": "code",
        "outputId": "3f9f1de1-ce1b-411a-8f4b-bce7c26db1d0",
        "colab": {
          "base_uri": "https://localhost:8080/",
          "height": 34
        }
      },
      "source": [
        "ypred_labels = np.argmax(ypred, axis=1)\n",
        "np.bincount(ypred_labels)"
      ],
      "execution_count": 0,
      "outputs": [
        {
          "output_type": "execute_result",
          "data": {
            "text/plain": [
              "array([73, 24, 40, 69, 49])"
            ]
          },
          "metadata": {
            "tags": []
          },
          "execution_count": 46
        }
      ]
    },
    {
      "cell_type": "markdown",
      "metadata": {
        "id": "AcrUKlDXXe5h",
        "colab_type": "text"
      },
      "source": [
        "### compute confusion matrix, accuracy score and display classification report"
      ]
    },
    {
      "cell_type": "code",
      "metadata": {
        "id": "CEdTSUiBLIfo",
        "colab_type": "code",
        "colab": {}
      },
      "source": [
        "ytrue = []\n",
        "for filenm in val_generator.filenames:\n",
        "    ytrue.append(int(filenm.split('/')[0]))"
      ],
      "execution_count": 0,
      "outputs": []
    },
    {
      "cell_type": "code",
      "metadata": {
        "id": "RZc71uBAMKLA",
        "colab_type": "code",
        "outputId": "974fa28e-fe50-41fd-fdfc-75d58e2cd1ae",
        "colab": {
          "base_uri": "https://localhost:8080/",
          "height": 102
        }
      },
      "source": [
        "confusion_matrix(ytrue, ypred_labels)"
      ],
      "execution_count": 0,
      "outputs": [
        {
          "output_type": "execute_result",
          "data": {
            "text/plain": [
              "array([[43,  5,  1,  2,  0],\n",
              "       [26, 17,  7,  1,  0],\n",
              "       [ 4,  2, 24, 20,  1],\n",
              "       [ 0,  0,  8, 38,  5],\n",
              "       [ 0,  0,  0,  8, 43]])"
            ]
          },
          "metadata": {
            "tags": []
          },
          "execution_count": 48
        }
      ]
    },
    {
      "cell_type": "code",
      "metadata": {
        "id": "BsPM8CLZNCYP",
        "colab_type": "code",
        "outputId": "50c4fb5b-e873-4f85-f89b-53b8985e3b8d",
        "colab": {
          "base_uri": "https://localhost:8080/",
          "height": 34
        }
      },
      "source": [
        "accuracy_score(ytrue, ypred_labels)"
      ],
      "execution_count": 0,
      "outputs": [
        {
          "output_type": "execute_result",
          "data": {
            "text/plain": [
              "0.6470588235294118"
            ]
          },
          "metadata": {
            "tags": []
          },
          "execution_count": 49
        }
      ]
    },
    {
      "cell_type": "code",
      "metadata": {
        "id": "maSdwgIDLkeh",
        "colab_type": "code",
        "outputId": "4cd7ecc7-b2f0-4d1d-cac6-7e3009e7d0e0",
        "colab": {
          "base_uri": "https://localhost:8080/",
          "height": 221
        }
      },
      "source": [
        "print(classification_report(ytrue, ypred_labels))"
      ],
      "execution_count": 0,
      "outputs": [
        {
          "output_type": "stream",
          "text": [
            "              precision    recall  f1-score   support\n",
            "\n",
            "           0       0.59      0.84      0.69        51\n",
            "           1       0.71      0.33      0.45        51\n",
            "           2       0.60      0.47      0.53        51\n",
            "           3       0.55      0.75      0.63        51\n",
            "           4       0.88      0.84      0.86        51\n",
            "\n",
            "    accuracy                           0.65       255\n",
            "   macro avg       0.67      0.65      0.63       255\n",
            "weighted avg       0.67      0.65      0.63       255\n",
            "\n"
          ],
          "name": "stdout"
        }
      ]
    },
    {
      "cell_type": "markdown",
      "metadata": {
        "id": "rTkvvFCxSQUF",
        "colab_type": "text"
      },
      "source": [
        "## TEST MODEL"
      ]
    },
    {
      "cell_type": "markdown",
      "metadata": {
        "id": "ose9vBBSBaqB",
        "colab_type": "text"
      },
      "source": [
        "### bring test data into runtime"
      ]
    },
    {
      "cell_type": "code",
      "metadata": {
        "id": "7a7ZNKOPCF4v",
        "colab_type": "code",
        "colab": {}
      },
      "source": [
        "!mkdir TestData/\n",
        "!cp -r /content/drive/My\\ Drive/ECE542_sp20_CompetitionData/TestData TestData/"
      ],
      "execution_count": 0,
      "outputs": []
    },
    {
      "cell_type": "markdown",
      "metadata": {
        "id": "QoeJwJwNMfqM",
        "colab_type": "text"
      },
      "source": [
        "### import libraries"
      ]
    },
    {
      "cell_type": "code",
      "metadata": {
        "id": "MYluah7kbZz6",
        "colab_type": "code",
        "colab": {}
      },
      "source": [
        "import pandas as pd\n",
        "import numpy as np\n",
        "import os\n",
        "import keras\n",
        "import matplotlib.pyplot as plt\n",
        "from tensorflow.keras.layers import Dense,GlobalAveragePooling2D\n",
        "from tensorflow.keras.applications import InceptionResNetV2, VGG16, ResNet50\n",
        "from tensorflow.keras.preprocessing import image\n",
        "from tensorflow.keras.applications.resnet import preprocess_input\n",
        "from tensorflow.keras.preprocessing.image import ImageDataGenerator\n",
        "from tensorflow.keras.models import Model\n",
        "from tensorflow.keras.optimizers import Adam, SGD\n",
        "from keras.models import load_model"
      ],
      "execution_count": 0,
      "outputs": []
    },
    {
      "cell_type": "markdown",
      "metadata": {
        "id": "v08trYr_Oi9u",
        "colab_type": "text"
      },
      "source": [
        "### define model and load weights"
      ]
    },
    {
      "cell_type": "code",
      "metadata": {
        "id": "zoRv2_ZwBmfM",
        "colab_type": "code",
        "colab": {}
      },
      "source": [
        "base_model=ResNet50(weights='imagenet',include_top=False)\n",
        "for layer in base_model.layers:\n",
        "    layer.trainable=False\n",
        "\n",
        "x=base_model.output\n",
        "x=GlobalAveragePooling2D()(x)\n",
        "x=Dense(128,activation='relu')(x)\n",
        "x=Dense(128,activation='relu')(x)\n",
        "preds=Dense(5,activation='softmax')(x)\n",
        "\n",
        "model=Model(inputs=base_model.input, outputs=preds)\n",
        "\n",
        "model_path = '/content/drive/My Drive/Models_Resnet/classweight/Best_model/model-epoch-024-valacc-0.625000.h5'\n",
        "model.load_weights(model_path)"
      ],
      "execution_count": 0,
      "outputs": []
    },
    {
      "cell_type": "markdown",
      "metadata": {
        "id": "ySbl1wntOnkR",
        "colab_type": "text"
      },
      "source": [
        "### define test generator"
      ]
    },
    {
      "cell_type": "code",
      "metadata": {
        "id": "Q-sulWMvDNdY",
        "colab_type": "code",
        "outputId": "c08e3f43-590f-4e33-8cc8-570b64901db6",
        "colab": {
          "base_uri": "https://localhost:8080/",
          "height": 34
        }
      },
      "source": [
        "test_save = 'TestData/'\n",
        "\n",
        "test_datagen = ImageDataGenerator(preprocessing_function=preprocess_input)\n",
        "\n",
        "test_generator=test_datagen.flow_from_directory(test_save, \n",
        "                                                target_size=(224,224),\n",
        "                                                color_mode='rgb',\n",
        "                                                batch_size=16,\n",
        "                                                class_mode=None,\n",
        "                                                shuffle=False)"
      ],
      "execution_count": 0,
      "outputs": [
        {
          "output_type": "stream",
          "text": [
            "Found 200 images belonging to 1 classes.\n"
          ],
          "name": "stdout"
        }
      ]
    },
    {
      "cell_type": "markdown",
      "metadata": {
        "id": "Pckqwq7rOqvc",
        "colab_type": "text"
      },
      "source": [
        "### check if generator filenames arrives in sorted order of filenames"
      ]
    },
    {
      "cell_type": "code",
      "metadata": {
        "id": "pXA1jMY7bdl5",
        "colab_type": "code",
        "outputId": "1088dcd3-57b6-4433-bdd0-cc10c8764d6b",
        "colab": {
          "base_uri": "https://localhost:8080/",
          "height": 34
        }
      },
      "source": [
        "non_sorted = test_generator.filenames\n",
        "sorted_list = sorted(non_sorted)\n",
        "\n",
        "sorted_list == non_sorted"
      ],
      "execution_count": 0,
      "outputs": [
        {
          "output_type": "execute_result",
          "data": {
            "text/plain": [
              "True"
            ]
          },
          "metadata": {
            "tags": []
          },
          "execution_count": 35
        }
      ]
    },
    {
      "cell_type": "markdown",
      "metadata": {
        "id": "786dh4EMOu_N",
        "colab_type": "text"
      },
      "source": [
        "### predict labels for test data and save predictions as CSV file"
      ]
    },
    {
      "cell_type": "code",
      "metadata": {
        "id": "5wbraVpLEmqe",
        "colab_type": "code",
        "outputId": "1f262de7-341b-4f23-8f08-c43bb302c017",
        "colab": {
          "base_uri": "https://localhost:8080/",
          "height": 68
        }
      },
      "source": [
        "from keras.utils import to_categorical\n",
        "\n",
        "ypred = model.predict_generator(test_generator, steps=len(test_generator))\n",
        "ypred_labels = np.argmax(ypred, axis=1)\n",
        "ypred_onehot = to_categorical(ypred_labels, num_classes=5)\n",
        "\n",
        "print(ypred.shape)\n",
        "print(np.bincount(ypred_labels))\n",
        "# np.savetxt('predictions_model-epoch-024-valacc-0.625000.csv', ypred_onehot, fmt='%d', delimiter=',')\n",
        "print('Predictions onehot file saved!')"
      ],
      "execution_count": 0,
      "outputs": [
        {
          "output_type": "stream",
          "text": [
            "(200, 5)\n",
            "[36 72 16 21 55]\n",
            "Predictions onehot file saved!\n"
          ],
          "name": "stdout"
        }
      ]
    },
    {
      "cell_type": "code",
      "metadata": {
        "id": "6FGBGREUKz0D",
        "colab_type": "code",
        "colab": {}
      },
      "source": [
        ""
      ],
      "execution_count": 0,
      "outputs": []
    }
  ]
}