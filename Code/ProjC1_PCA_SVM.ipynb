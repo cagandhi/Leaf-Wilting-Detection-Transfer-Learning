{
  "nbformat": 4,
  "nbformat_minor": 0,
  "metadata": {
    "colab": {
      "name": "ProjC1_Final_Code_PCA_SVM.ipynb",
      "provenance": [],
      "collapsed_sections": []
    },
    "kernelspec": {
      "name": "python3",
      "display_name": "Python 3"
    },
    "accelerator": "TPU"
  },
  "cells": [
    {
      "cell_type": "markdown",
      "metadata": {
        "id": "QwVHVTq2NJ3d",
        "colab_type": "text"
      },
      "source": [
        "### mount google drive"
      ]
    },
    {
      "cell_type": "code",
      "metadata": {
        "id": "0gkEUsQ8NFlv",
        "colab_type": "code",
        "outputId": "9d518a07-2db7-4502-e828-2944e3a66238",
        "colab": {
          "base_uri": "https://localhost:8080/",
          "height": 122
        }
      },
      "source": [
        "from google.colab import drive\n",
        "drive.mount('/content/drive')"
      ],
      "execution_count": 1,
      "outputs": [
        {
          "output_type": "stream",
          "text": [
            "Go to this URL in a browser: https://accounts.google.com/o/oauth2/auth?client_id=947318989803-6bn6qk8qdgf4n4g3pfee6491hc0brc4i.apps.googleusercontent.com&redirect_uri=urn%3aietf%3awg%3aoauth%3a2.0%3aoob&response_type=code&scope=email%20https%3a%2f%2fwww.googleapis.com%2fauth%2fdocs.test%20https%3a%2f%2fwww.googleapis.com%2fauth%2fdrive%20https%3a%2f%2fwww.googleapis.com%2fauth%2fdrive.photos.readonly%20https%3a%2f%2fwww.googleapis.com%2fauth%2fpeopleapi.readonly\n",
            "\n",
            "Enter your authorization code:\n",
            "··········\n",
            "Mounted at /content/drive\n"
          ],
          "name": "stdout"
        }
      ]
    },
    {
      "cell_type": "markdown",
      "metadata": {
        "id": "7AeV3PQcNPJl",
        "colab_type": "text"
      },
      "source": [
        "### copy leaf data to local runtime for faster processing"
      ]
    },
    {
      "cell_type": "code",
      "metadata": {
        "id": "-Ut2G2o6NSVI",
        "colab_type": "code",
        "colab": {
          "base_uri": "https://localhost:8080/",
          "height": 51
        },
        "outputId": "a969fc65-417b-4474-f749-843eaefa3a50"
      },
      "source": [
        "!cp -r /content/drive/My\\ Drive/ECE542_sp20_CompetitionData ./"
      ],
      "execution_count": 6,
      "outputs": [
        {
          "output_type": "stream",
          "text": [
            "cp: cannot open '/content/drive/My Drive/ECE542_sp20_CompetitionData/Results-C1/Results-C1.gsheet' for reading: Operation not supported\n",
            "cp: cannot open '/content/drive/My Drive/ECE542_sp20_CompetitionData/Scoreboard-C2/Results.gsheet' for reading: Operation not supported\n"
          ],
          "name": "stdout"
        }
      ]
    },
    {
      "cell_type": "markdown",
      "metadata": {
        "id": "3MTbYa-FOEus",
        "colab_type": "text"
      },
      "source": [
        "### import libraries"
      ]
    },
    {
      "cell_type": "code",
      "metadata": {
        "id": "vmuj8b3hOIdM",
        "colab_type": "code",
        "colab": {}
      },
      "source": [
        "import numpy as np\n",
        "import pandas as pd\n",
        "import os, random, math, glob, cv2, pickle\n",
        "from datetime import datetime\n",
        "\n",
        "import matplotlib.pyplot as plt\n",
        "%matplotlib inline\n",
        "\n",
        "from sklearn.utils import shuffle\n",
        "from sklearn.model_selection import  train_test_split\n",
        "from keras.utils import to_categorical\n",
        "from sklearn.decomposition import PCA\n",
        "from sklearn.svm import LinearSVC\n",
        "from sklearn.metrics import confusion_matrix, classification_report"
      ],
      "execution_count": 0,
      "outputs": []
    },
    {
      "cell_type": "markdown",
      "metadata": {
        "id": "r_Ecowdl5__N",
        "colab_type": "text"
      },
      "source": [
        "### define data paths"
      ]
    },
    {
      "cell_type": "code",
      "metadata": {
        "id": "3f0PGmI96CGc",
        "colab_type": "code",
        "colab": {}
      },
      "source": [
        "train_data_path = '/content/drive/My Drive/ECE542_sp20_CompetitionData/TrainData-C1/'\n",
        "test_data_path = '/content/drive/My Drive/ECE542_sp20_CompetitionData/TestData/'\n",
        "train_annotations_path = '/content/drive/My Drive/ECE542_sp20_CompetitionData/TrainData-C1/TrainAnnotations.csv'"
      ],
      "execution_count": 0,
      "outputs": []
    },
    {
      "cell_type": "markdown",
      "metadata": {
        "id": "U55Q_PoDOobQ",
        "colab_type": "text"
      },
      "source": [
        "### load annotations"
      ]
    },
    {
      "cell_type": "code",
      "metadata": {
        "id": "2awgDWZdO6gK",
        "colab_type": "code",
        "outputId": "f51571c9-0259-44a4-d027-bc79cdd286fc",
        "colab": {
          "base_uri": "https://localhost:8080/",
          "height": 102
        }
      },
      "source": [
        "df=pd.read_csv(train_annotations_path)\n",
        "df.head()\n",
        "\n",
        "# count of all class images\n",
        "c=5\n",
        "for i in range(c):\n",
        "    print(df[df['annotation']==i].shape[0])"
      ],
      "execution_count": 0,
      "outputs": [
        {
          "output_type": "stream",
          "text": [
            "488\n",
            "185\n",
            "130\n",
            "131\n",
            "91\n"
          ],
          "name": "stdout"
        }
      ]
    },
    {
      "cell_type": "markdown",
      "metadata": {
        "id": "B_I11DyoO7t0",
        "colab_type": "text"
      },
      "source": [
        "### vectorize image and generate data and label vectors"
      ]
    },
    {
      "cell_type": "code",
      "metadata": {
        "id": "yxyiUdBDPGXH",
        "colab_type": "code",
        "colab": {}
      },
      "source": [
        "i=0\n",
        "data_dir=train_data_path\n",
        "file_nm = ''\n",
        "\n",
        "x = []\n",
        "y = []\n",
        "\n",
        "for filenm in glob.glob(data_dir+'*.jpg'):\n",
        "  \n",
        "    fnm = filenm.split('/')[-1]\n",
        "    vec=np.array(cv2.imread(data_dir+fnm, cv2.IMREAD_GRAYSCALE)).flatten()\n",
        "    x.append(vec)\n",
        "    y.append(df[df['file_name']==fnm]['annotation'].iloc[0])"
      ],
      "execution_count": 0,
      "outputs": []
    },
    {
      "cell_type": "markdown",
      "metadata": {
        "id": "dQ_4XFr5PXsy",
        "colab_type": "text"
      },
      "source": [
        "### split into train and val data - stratified; equal percentage from all classes"
      ]
    },
    {
      "cell_type": "code",
      "metadata": {
        "id": "74Ws-xn6Qs7g",
        "colab_type": "code",
        "outputId": "f6b29cb2-8966-45b9-a370-186026c6f388",
        "colab": {
          "base_uri": "https://localhost:8080/",
          "height": 85
        }
      },
      "source": [
        "x = np.array(x)\n",
        "y = np.array(y)\n",
        "\n",
        "test_per=0.2\n",
        "x_train, x_val, y_train, y_val = train_test_split(x, y, test_size = test_per, shuffle = True, stratify = y)\n",
        "\n",
        "print(x_train.shape)\n",
        "print(y_train.shape)\n",
        "print(x_val.shape)\n",
        "print(y_val.shape)"
      ],
      "execution_count": 0,
      "outputs": [
        {
          "output_type": "stream",
          "text": [
            "(820, 307200)\n",
            "(820,)\n",
            "(205, 307200)\n",
            "(205,)\n"
          ],
          "name": "stdout"
        }
      ]
    },
    {
      "cell_type": "markdown",
      "metadata": {
        "id": "VCbIsRaLRCtG",
        "colab_type": "text"
      },
      "source": [
        "### pca decomposition"
      ]
    },
    {
      "cell_type": "code",
      "metadata": {
        "id": "GEfUhn0HRmEq",
        "colab_type": "code",
        "outputId": "35563620-d54e-4dcb-b525-b208a9c63d86",
        "colab": {
          "base_uri": "https://localhost:8080/",
          "height": 34
        }
      },
      "source": [
        "n_comp = 800\n",
        "pca = PCA(n_components=n_comp)\n",
        "x_train_pca = pca.fit_transform(x_train)\n",
        "x_val_pca = pca.transform(x_val)\n",
        "\n",
        "print(x_train_pca.shape, x_val_pca.shape)"
      ],
      "execution_count": 0,
      "outputs": [
        {
          "output_type": "stream",
          "text": [
            "(820, 800) (205, 800)\n"
          ],
          "name": "stdout"
        }
      ]
    },
    {
      "cell_type": "markdown",
      "metadata": {
        "id": "AwRBlR8CR2Ha",
        "colab_type": "text"
      },
      "source": [
        "### train model on training data"
      ]
    },
    {
      "cell_type": "code",
      "metadata": {
        "id": "-uBkyX1JR4aQ",
        "colab_type": "code",
        "outputId": "36accea7-846e-4980-a14e-da2c6f2a970b",
        "colab": {
          "base_uri": "https://localhost:8080/",
          "height": 51
        }
      },
      "source": [
        "clf = LinearSVC(max_iter=100000)\n",
        "clf.fit(x_train_pca, y_train)\n",
        "print('\\nAccuracy: %f'%clf.score(x_val_pca,y_val))"
      ],
      "execution_count": 0,
      "outputs": [
        {
          "output_type": "stream",
          "text": [
            "\n",
            "Accuracy: 0.741463\n"
          ],
          "name": "stdout"
        }
      ]
    },
    {
      "cell_type": "markdown",
      "metadata": {
        "id": "QNpQZLe9SNAP",
        "colab_type": "text"
      },
      "source": [
        "### confusion matrix and classification report on validation data"
      ]
    },
    {
      "cell_type": "code",
      "metadata": {
        "id": "wJcxNH4cSSW3",
        "colab_type": "code",
        "outputId": "83231f4a-f721-4e05-98a4-bb4bb81f6daf",
        "colab": {
          "base_uri": "https://localhost:8080/",
          "height": 306
        }
      },
      "source": [
        "ypred = clf.predict(x_val_pca)\n",
        "\n",
        "print(confusion_matrix(y_val,ypred))\n",
        "print(classification_report(y_val,ypred))"
      ],
      "execution_count": 0,
      "outputs": [
        {
          "output_type": "stream",
          "text": [
            "[[65 26  6  0  1]\n",
            " [ 4 30  2  1  0]\n",
            " [ 0  2 22  1  1]\n",
            " [ 0  1  3 22  0]\n",
            " [ 0  0  1  4 13]]\n",
            "              precision    recall  f1-score   support\n",
            "\n",
            "           0       0.94      0.66      0.78        98\n",
            "           1       0.51      0.81      0.62        37\n",
            "           2       0.65      0.85      0.73        26\n",
            "           3       0.79      0.85      0.81        26\n",
            "           4       0.87      0.72      0.79        18\n",
            "\n",
            "    accuracy                           0.74       205\n",
            "   macro avg       0.75      0.78      0.75       205\n",
            "weighted avg       0.80      0.74      0.75       205\n",
            "\n"
          ],
          "name": "stdout"
        }
      ]
    },
    {
      "cell_type": "markdown",
      "metadata": {
        "id": "5HkvlEdEScFd",
        "colab_type": "text"
      },
      "source": [
        "### read test filenames"
      ]
    },
    {
      "cell_type": "code",
      "metadata": {
        "id": "g7qcXRYCSd7R",
        "colab_type": "code",
        "outputId": "dd0e84f0-ac8f-44f5-b390-c9a65de194ed",
        "colab": {
          "base_uri": "https://localhost:8080/",
          "height": 34
        }
      },
      "source": [
        "test_list = []\n",
        "test_dir = test_data_path\n",
        "test_file_list=[]\n",
        "\n",
        "for img_name in os.listdir(test_dir):\n",
        "    test_file_list.append(img_name)\n",
        "\n",
        "test_file_list=sorted(test_file_list)\n",
        "print(len(test_file_list))"
      ],
      "execution_count": 0,
      "outputs": [
        {
          "output_type": "stream",
          "text": [
            "200\n"
          ],
          "name": "stdout"
        }
      ]
    },
    {
      "cell_type": "markdown",
      "metadata": {
        "id": "CLtkrc9DSh2g",
        "colab_type": "text"
      },
      "source": [
        "### vectorize test images and pca "
      ]
    },
    {
      "cell_type": "code",
      "metadata": {
        "id": "XNjP3UE2SkOj",
        "colab_type": "code",
        "colab": {}
      },
      "source": [
        "x_test = []\n",
        "\n",
        "for filenm in test_file_list:\n",
        "    vec=np.array(cv2.imread(test_dir+filenm, cv2.IMREAD_GRAYSCALE)).flatten()\n",
        "    x_test.append(vec)\n",
        "\n",
        "x_test = np.array(x_test)\n",
        "x_test_pca = pca.transform(x_test)"
      ],
      "execution_count": 0,
      "outputs": []
    },
    {
      "cell_type": "markdown",
      "metadata": {
        "id": "KY90GbvNS395",
        "colab_type": "text"
      },
      "source": [
        "### generate final predictions"
      ]
    },
    {
      "cell_type": "code",
      "metadata": {
        "id": "s6oAeaGVS6qC",
        "colab_type": "code",
        "outputId": "72bc24f2-9ee8-4f0d-8e12-19538cfc529d",
        "colab": {
          "base_uri": "https://localhost:8080/",
          "height": 34
        }
      },
      "source": [
        "nclass=5\n",
        "final_pred = clf.predict(x_test_pca)\n",
        "final_pred_cat = to_categorical(final_pred, num_classes=nclass)\n",
        "\n",
        "print(final_pred_cat.shape)"
      ],
      "execution_count": 0,
      "outputs": [
        {
          "output_type": "stream",
          "text": [
            "(200, 5)\n"
          ],
          "name": "stdout"
        }
      ]
    },
    {
      "cell_type": "markdown",
      "metadata": {
        "id": "NA4nCwT1TMfo",
        "colab_type": "text"
      },
      "source": [
        "### class distribution in test"
      ]
    },
    {
      "cell_type": "code",
      "metadata": {
        "id": "DPJqW_OMTQyK",
        "colab_type": "code",
        "outputId": "6d97c991-0cfa-4f92-f7bd-37470d887acd",
        "colab": {
          "base_uri": "https://localhost:8080/",
          "height": 34
        }
      },
      "source": [
        "np.bincount(final_pred)"
      ],
      "execution_count": 0,
      "outputs": [
        {
          "output_type": "execute_result",
          "data": {
            "text/plain": [
              "array([101,  60,  32,   7])"
            ]
          },
          "metadata": {
            "tags": []
          },
          "execution_count": 18
        }
      ]
    },
    {
      "cell_type": "markdown",
      "metadata": {
        "id": "M4XVAmZtTYsZ",
        "colab_type": "text"
      },
      "source": [
        "### save final predictions"
      ]
    },
    {
      "cell_type": "code",
      "metadata": {
        "id": "UKM0g4jcTc7C",
        "colab_type": "code",
        "colab": {}
      },
      "source": [
        "curr_dt_string = datetime.now().strftime('%d_%m_%y__%H_%M_%S')\n",
        "\n",
        "np.savetxt('predictions_'+curr_dt_string+'.csv', final_pred_cat, delimiter=',')\n",
        "np.save('final_pred_'+curr_dt_string+'.npy', final_pred)"
      ],
      "execution_count": 0,
      "outputs": []
    },
    {
      "cell_type": "markdown",
      "metadata": {
        "id": "nUH75hk9UxuB",
        "colab_type": "text"
      },
      "source": [
        "### save classifier as pickle model"
      ]
    },
    {
      "cell_type": "code",
      "metadata": {
        "id": "jNpr3AjZUzsN",
        "colab_type": "code",
        "colab": {}
      },
      "source": [
        "with open('clf_'+curr_dt_string+'.pkl', 'wb') as f:\n",
        "    pickle.dump(clf, f)"
      ],
      "execution_count": 0,
      "outputs": []
    },
    {
      "cell_type": "markdown",
      "metadata": {
        "id": "HLta31O-VTpm",
        "colab_type": "text"
      },
      "source": [
        "### load classifier from pickle file"
      ]
    },
    {
      "cell_type": "code",
      "metadata": {
        "id": "XeJgpJuUVVkX",
        "colab_type": "code",
        "colab": {}
      },
      "source": [
        "with open('clf_'+curr_dt_string+'.pkl', 'rb') as f:\n",
        "    clf1 = pickle.load(f)"
      ],
      "execution_count": 0,
      "outputs": []
    }
  ]
}