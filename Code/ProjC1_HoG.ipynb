{
  "nbformat": 4,
  "nbformat_minor": 0,
  "metadata": {
    "colab": {
      "name": "ProjC1_HoG.ipynb",
      "provenance": [],
      "collapsed_sections": []
    },
    "kernelspec": {
      "name": "python3",
      "display_name": "Python 3"
    },
    "accelerator": "TPU"
  },
  "cells": [
    {
      "cell_type": "markdown",
      "metadata": {
        "id": "QwVHVTq2NJ3d",
        "colab_type": "text"
      },
      "source": [
        "### mount google drive"
      ]
    },
    {
      "cell_type": "code",
      "metadata": {
        "id": "0gkEUsQ8NFlv",
        "colab_type": "code",
        "outputId": "1b882a4d-d98d-4cd1-9f97-e1fed578a8b6",
        "colab": {
          "base_uri": "https://localhost:8080/",
          "height": 122
        }
      },
      "source": [
        "from google.colab import drive\n",
        "drive.mount('/content/drive')"
      ],
      "execution_count": 0,
      "outputs": [
        {
          "output_type": "stream",
          "text": [
            "Go to this URL in a browser: https://accounts.google.com/o/oauth2/auth?client_id=947318989803-6bn6qk8qdgf4n4g3pfee6491hc0brc4i.apps.googleusercontent.com&redirect_uri=urn%3aietf%3awg%3aoauth%3a2.0%3aoob&response_type=code&scope=email%20https%3a%2f%2fwww.googleapis.com%2fauth%2fdocs.test%20https%3a%2f%2fwww.googleapis.com%2fauth%2fdrive%20https%3a%2f%2fwww.googleapis.com%2fauth%2fdrive.photos.readonly%20https%3a%2f%2fwww.googleapis.com%2fauth%2fpeopleapi.readonly\n",
            "\n",
            "Enter your authorization code:\n",
            "··········\n",
            "Mounted at /content/drive\n"
          ],
          "name": "stdout"
        }
      ]
    },
    {
      "cell_type": "markdown",
      "metadata": {
        "id": "7AeV3PQcNPJl",
        "colab_type": "text"
      },
      "source": [
        "### copy leaf data to local runtime for faster processing"
      ]
    },
    {
      "cell_type": "code",
      "metadata": {
        "id": "-Ut2G2o6NSVI",
        "colab_type": "code",
        "colab": {}
      },
      "source": [
        "!cp -r /content/drive/My\\ Drive/ECE542_sp20_CompetitionData ./"
      ],
      "execution_count": 0,
      "outputs": []
    },
    {
      "cell_type": "markdown",
      "metadata": {
        "id": "3MTbYa-FOEus",
        "colab_type": "text"
      },
      "source": [
        "### import libraries"
      ]
    },
    {
      "cell_type": "code",
      "metadata": {
        "id": "vmuj8b3hOIdM",
        "colab_type": "code",
        "colab": {}
      },
      "source": [
        "import numpy as np\n",
        "import pandas as pd\n",
        "import os, random, math, glob, cv2, pickle\n",
        "from datetime import datetime\n",
        "\n",
        "import matplotlib.pyplot as plt\n",
        "%matplotlib inline\n",
        "\n",
        "from sklearn.utils import shuffle\n",
        "from sklearn.model_selection import  train_test_split\n",
        "from keras.utils import to_categorical\n",
        "from sklearn.decomposition import PCA\n",
        "from sklearn.svm import LinearSVC\n",
        "from sklearn.metrics import confusion_matrix, classification_report\n",
        "\n",
        "from skimage.io import imread, imshow\n",
        "from skimage.transform import resize\n",
        "from skimage.feature import hog\n",
        "from skimage import exposure"
      ],
      "execution_count": 0,
      "outputs": []
    },
    {
      "cell_type": "markdown",
      "metadata": {
        "id": "r_Ecowdl5__N",
        "colab_type": "text"
      },
      "source": [
        "### define data paths"
      ]
    },
    {
      "cell_type": "code",
      "metadata": {
        "id": "3f0PGmI96CGc",
        "colab_type": "code",
        "colab": {}
      },
      "source": [
        "train_data_path = 'ECE542_sp20_CompetitionData/TrainData-C1/'\n",
        "test_data_path = 'ECE542_sp20_CompetitionData/TestData/'\n",
        "train_annotations_path = 'ECE542_sp20_CompetitionData/TrainData-C1/TrainAnnotations.csv'"
      ],
      "execution_count": 0,
      "outputs": []
    },
    {
      "cell_type": "markdown",
      "metadata": {
        "id": "U55Q_PoDOobQ",
        "colab_type": "text"
      },
      "source": [
        "### load annotations"
      ]
    },
    {
      "cell_type": "code",
      "metadata": {
        "id": "2awgDWZdO6gK",
        "colab_type": "code",
        "outputId": "20cd1f49-3e5e-45eb-b65e-5c8588e7d5d6",
        "colab": {
          "base_uri": "https://localhost:8080/",
          "height": 102
        }
      },
      "source": [
        "df=pd.read_csv(train_annotations_path)\n",
        "df.head()\n",
        "\n",
        "# count of all class images\n",
        "c=5\n",
        "for i in range(c):\n",
        "    print(df[df['annotation']==i].shape[0])"
      ],
      "execution_count": 0,
      "outputs": [
        {
          "output_type": "stream",
          "text": [
            "488\n",
            "185\n",
            "130\n",
            "131\n",
            "91\n"
          ],
          "name": "stdout"
        }
      ]
    },
    {
      "cell_type": "markdown",
      "metadata": {
        "id": "B_I11DyoO7t0",
        "colab_type": "text"
      },
      "source": [
        "### compute HoG features image and generate data and label vectors"
      ]
    },
    {
      "cell_type": "code",
      "metadata": {
        "id": "yxyiUdBDPGXH",
        "colab_type": "code",
        "colab": {}
      },
      "source": [
        "i=0\n",
        "data_dir=train_data_path\n",
        "file_nm = ''\n",
        "\n",
        "x = []\n",
        "y = []\n",
        "\n",
        "for filenm in glob.glob(data_dir+'*.jpg'):\n",
        "  \n",
        "    fnm = filenm.split('/')[-1]\n",
        "    fd = hog(imread(filenm), orientations=9, pixels_per_cell=(16, 16), cells_per_block=(2, 2), visualize=False, multichannel=True)\n",
        "    x.append(fd)\n",
        "    y.append(df[df['file_name']==fnm]['annotation'].iloc[0])"
      ],
      "execution_count": 0,
      "outputs": []
    },
    {
      "cell_type": "markdown",
      "metadata": {
        "id": "dQ_4XFr5PXsy",
        "colab_type": "text"
      },
      "source": [
        "### split into train and val data - stratified; equal percentage from all classes"
      ]
    },
    {
      "cell_type": "code",
      "metadata": {
        "id": "74Ws-xn6Qs7g",
        "colab_type": "code",
        "outputId": "cde4a459-2d62-47f6-ba90-e440788fc3a6",
        "colab": {
          "base_uri": "https://localhost:8080/",
          "height": 85
        }
      },
      "source": [
        "x = np.array(x)\n",
        "y = np.array(y)\n",
        "\n",
        "test_per=0.2\n",
        "x_train, x_val, y_train, y_val = train_test_split(x, y, test_size = test_per, shuffle = True, stratify = y)\n",
        "\n",
        "print(x_train.shape)\n",
        "print(y_train.shape)\n",
        "print(x_val.shape)\n",
        "print(y_val.shape)"
      ],
      "execution_count": 0,
      "outputs": [
        {
          "output_type": "stream",
          "text": [
            "(820, 40716)\n",
            "(820,)\n",
            "(205, 40716)\n",
            "(205,)\n"
          ],
          "name": "stdout"
        }
      ]
    },
    {
      "cell_type": "markdown",
      "metadata": {
        "id": "VCbIsRaLRCtG",
        "colab_type": "text"
      },
      "source": [
        "### pca decomposition"
      ]
    },
    {
      "cell_type": "code",
      "metadata": {
        "id": "GEfUhn0HRmEq",
        "colab_type": "code",
        "outputId": "5fe80b4a-e382-4d35-9f7d-cc455bf4205e",
        "colab": {
          "base_uri": "https://localhost:8080/",
          "height": 34
        }
      },
      "source": [
        "n_comp = 500\n",
        "pca = PCA(n_components=n_comp)\n",
        "x_train_pca = pca.fit_transform(x_train)\n",
        "x_val_pca = pca.transform(x_val)\n",
        "\n",
        "print(x_train_pca.shape, x_val_pca.shape)"
      ],
      "execution_count": 0,
      "outputs": [
        {
          "output_type": "stream",
          "text": [
            "(820, 500) (205, 500)\n"
          ],
          "name": "stdout"
        }
      ]
    },
    {
      "cell_type": "markdown",
      "metadata": {
        "id": "AwRBlR8CR2Ha",
        "colab_type": "text"
      },
      "source": [
        "### Linear SVM for training data"
      ]
    },
    {
      "cell_type": "code",
      "metadata": {
        "id": "-uBkyX1JR4aQ",
        "colab_type": "code",
        "outputId": "53dd2fd9-1840-4848-cd77-3ad6a9da1d34",
        "colab": {
          "base_uri": "https://localhost:8080/",
          "height": 51
        }
      },
      "source": [
        "clf = LinearSVC(max_iter=100000)\n",
        "clf.fit(x_train_pca, y_train)\n",
        "print('\\nAccuracy: %f'%clf.score(x_val_pca, y_val))"
      ],
      "execution_count": 0,
      "outputs": [
        {
          "output_type": "stream",
          "text": [
            "\n",
            "Accuracy: 0.858537\n"
          ],
          "name": "stdout"
        }
      ]
    },
    {
      "cell_type": "markdown",
      "metadata": {
        "id": "QNpQZLe9SNAP",
        "colab_type": "text"
      },
      "source": [
        "### confusion matrix and classification report on validation data"
      ]
    },
    {
      "cell_type": "code",
      "metadata": {
        "id": "wJcxNH4cSSW3",
        "colab_type": "code",
        "outputId": "f932d7ab-71e5-4c11-fdd3-3431a757341d",
        "colab": {
          "base_uri": "https://localhost:8080/",
          "height": 306
        }
      },
      "source": [
        "ypred = clf.predict(x_val_pca)\n",
        "\n",
        "print(confusion_matrix(y_val,ypred))\n",
        "print(classification_report(y_val,ypred))"
      ],
      "execution_count": 0,
      "outputs": [
        {
          "output_type": "stream",
          "text": [
            "[[95  3  0  0  0]\n",
            " [12 23  2  0  0]\n",
            " [ 2  3 20  1  0]\n",
            " [ 0  0  3 22  1]\n",
            " [ 0  0  0  2 16]]\n",
            "              precision    recall  f1-score   support\n",
            "\n",
            "           0       0.87      0.97      0.92        98\n",
            "           1       0.79      0.62      0.70        37\n",
            "           2       0.80      0.77      0.78        26\n",
            "           3       0.88      0.85      0.86        26\n",
            "           4       0.94      0.89      0.91        18\n",
            "\n",
            "    accuracy                           0.86       205\n",
            "   macro avg       0.86      0.82      0.84       205\n",
            "weighted avg       0.86      0.86      0.85       205\n",
            "\n"
          ],
          "name": "stdout"
        }
      ]
    },
    {
      "cell_type": "markdown",
      "metadata": {
        "id": "5HkvlEdEScFd",
        "colab_type": "text"
      },
      "source": [
        "### read test filenames"
      ]
    },
    {
      "cell_type": "code",
      "metadata": {
        "id": "g7qcXRYCSd7R",
        "colab_type": "code",
        "outputId": "646e5d18-8f86-4e37-998f-22e5f6002740",
        "colab": {
          "base_uri": "https://localhost:8080/",
          "height": 34
        }
      },
      "source": [
        "test_list = []\n",
        "test_dir = test_data_path\n",
        "test_file_list=[]\n",
        "\n",
        "for img_name in os.listdir(test_dir):\n",
        "    test_file_list.append(img_name)\n",
        "\n",
        "test_file_list=sorted(test_file_list)\n",
        "print(len(test_file_list))"
      ],
      "execution_count": 0,
      "outputs": [
        {
          "output_type": "stream",
          "text": [
            "200\n"
          ],
          "name": "stdout"
        }
      ]
    },
    {
      "cell_type": "markdown",
      "metadata": {
        "id": "CLtkrc9DSh2g",
        "colab_type": "text"
      },
      "source": [
        "### vectorize test images and pca "
      ]
    },
    {
      "cell_type": "code",
      "metadata": {
        "id": "XNjP3UE2SkOj",
        "colab_type": "code",
        "colab": {}
      },
      "source": [
        "x_test = []\n",
        "\n",
        "for filenm in test_file_list:\n",
        "    fd = hog(imread(test_dir+filenm), orientations=9, pixels_per_cell=(16, 16), cells_per_block=(2, 2), visualize=False, multichannel=True)\n",
        "    x_test.append(fd)\n",
        "\n",
        "x_test = np.array(x_test)\n",
        "x_test_pca = pca.transform(x_test)"
      ],
      "execution_count": 0,
      "outputs": []
    },
    {
      "cell_type": "markdown",
      "metadata": {
        "id": "KY90GbvNS395",
        "colab_type": "text"
      },
      "source": [
        "### generate final predictions and check class distribution"
      ]
    },
    {
      "cell_type": "code",
      "metadata": {
        "id": "s6oAeaGVS6qC",
        "colab_type": "code",
        "outputId": "4bfecbd6-49ba-4a88-fd55-f11ede027adc",
        "colab": {
          "base_uri": "https://localhost:8080/",
          "height": 34
        }
      },
      "source": [
        "nclass=5\n",
        "final_pred = clf.predict(x_test_pca)\n",
        "final_pred_cat = to_categorical(final_pred, num_classes=nclass)\n",
        "\n",
        "print(final_pred_cat.shape)\n",
        "print(np.bincount(final_pred))"
      ],
      "execution_count": 0,
      "outputs": [
        {
          "output_type": "stream",
          "text": [
            "(200, 5)\n"
          ],
          "name": "stdout"
        }
      ]
    },
    {
      "cell_type": "markdown",
      "metadata": {
        "id": "M4XVAmZtTYsZ",
        "colab_type": "text"
      },
      "source": [
        "### save final predictions"
      ]
    },
    {
      "cell_type": "code",
      "metadata": {
        "id": "UKM0g4jcTc7C",
        "colab_type": "code",
        "colab": {}
      },
      "source": [
        "curr_dt_string = datetime.now().strftime('%d_%m_%y__%H_%M_%S')\n",
        "\n",
        "np.savetxt('predictions_'+curr_dt_string+'.csv', final_pred_cat, delimiter=',')\n",
        "np.save('final_pred_'+curr_dt_string+'.npy', final_pred)"
      ],
      "execution_count": 0,
      "outputs": []
    },
    {
      "cell_type": "markdown",
      "metadata": {
        "id": "nUH75hk9UxuB",
        "colab_type": "text"
      },
      "source": [
        "### save classifier as pickle model"
      ]
    },
    {
      "cell_type": "code",
      "metadata": {
        "id": "jNpr3AjZUzsN",
        "colab_type": "code",
        "colab": {}
      },
      "source": [
        "with open('clf_'+curr_dt_string+'.pkl', 'wb') as f:\n",
        "    pickle.dump(clf, f)"
      ],
      "execution_count": 0,
      "outputs": []
    },
    {
      "cell_type": "markdown",
      "metadata": {
        "id": "HLta31O-VTpm",
        "colab_type": "text"
      },
      "source": [
        "### load classifier from pickle file"
      ]
    },
    {
      "cell_type": "code",
      "metadata": {
        "id": "XeJgpJuUVVkX",
        "colab_type": "code",
        "colab": {}
      },
      "source": [
        "with open('clf_'+curr_dt_string+'.pkl', 'rb') as f:\n",
        "    clf1 = pickle.load(f)"
      ],
      "execution_count": 0,
      "outputs": []
    },
    {
      "cell_type": "code",
      "metadata": {
        "id": "9bCzzPQK_5Ni",
        "colab_type": "code",
        "colab": {}
      },
      "source": [
        ""
      ],
      "execution_count": 0,
      "outputs": []
    }
  ]
}